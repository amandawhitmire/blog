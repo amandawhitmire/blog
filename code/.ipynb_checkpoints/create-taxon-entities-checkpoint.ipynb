{
 "cells": [
  {
   "cell_type": "markdown",
   "id": "e19af39d",
   "metadata": {},
   "source": [
    "I downloaded the complete taxonomy from Catalog of Life, and this script helps to clean it up. I'll do the rest by hand in BBEdit.\n"
   ]
  },
  {
   "cell_type": "code",
   "execution_count": 1,
   "id": "195717ec",
   "metadata": {},
   "outputs": [],
   "source": [
    "import datetime\n",
    "import pathlib\n",
    "import pandas as pd"
   ]
  },
  {
   "cell_type": "code",
   "execution_count": 16,
   "id": "dc48c76e",
   "metadata": {},
   "outputs": [],
   "source": [
    "# taxon = pd.read_csv('NameUsage.tsv', sep=\"\\t\", usecols=[5, 7, 8, 9, 11])\n",
    "taxon = pd.read_csv('NameUsage.tsv', sep=\"\\t\", usecols=[5, 7])"
   ]
  },
  {
   "cell_type": "code",
   "execution_count": 17,
   "id": "f6cb5ffc",
   "metadata": {},
   "outputs": [
    {
     "data": {
      "text/html": [
       "<div>\n",
       "<style scoped>\n",
       "    .dataframe tbody tr th:only-of-type {\n",
       "        vertical-align: middle;\n",
       "    }\n",
       "\n",
       "    .dataframe tbody tr th {\n",
       "        vertical-align: top;\n",
       "    }\n",
       "\n",
       "    .dataframe thead th {\n",
       "        text-align: right;\n",
       "    }\n",
       "</style>\n",
       "<table border=\"1\" class=\"dataframe\">\n",
       "  <thead>\n",
       "    <tr style=\"text-align: right;\">\n",
       "      <th></th>\n",
       "      <th>col:scientificName</th>\n",
       "      <th>col:rank</th>\n",
       "    </tr>\n",
       "  </thead>\n",
       "  <tbody>\n",
       "    <tr>\n",
       "      <th>0</th>\n",
       "      <td>Phryganella</td>\n",
       "      <td>genus</td>\n",
       "    </tr>\n",
       "    <tr>\n",
       "      <th>1</th>\n",
       "      <td>Dictyacantha</td>\n",
       "      <td>genus</td>\n",
       "    </tr>\n",
       "    <tr>\n",
       "      <th>2</th>\n",
       "      <td>Chlamydaster</td>\n",
       "      <td>genus</td>\n",
       "    </tr>\n",
       "    <tr>\n",
       "      <th>3</th>\n",
       "      <td>Annandaleum</td>\n",
       "      <td>genus</td>\n",
       "    </tr>\n",
       "    <tr>\n",
       "      <th>4</th>\n",
       "      <td>Barbascalpellum</td>\n",
       "      <td>genus</td>\n",
       "    </tr>\n",
       "  </tbody>\n",
       "</table>\n",
       "</div>"
      ],
      "text/plain": [
       "  col:scientificName col:rank\n",
       "0        Phryganella    genus\n",
       "1       Dictyacantha    genus\n",
       "2       Chlamydaster    genus\n",
       "3        Annandaleum    genus\n",
       "4    Barbascalpellum    genus"
      ]
     },
     "execution_count": 17,
     "metadata": {},
     "output_type": "execute_result"
    }
   ],
   "source": [
    "taxon.head()"
   ]
  },
  {
   "cell_type": "code",
   "execution_count": 40,
   "id": "eecc8be0",
   "metadata": {},
   "outputs": [
    {
     "data": {
      "text/plain": [
       "4340460"
      ]
     },
     "execution_count": 40,
     "metadata": {},
     "output_type": "execute_result"
    }
   ],
   "source": [
    "len(taxon)"
   ]
  },
  {
   "cell_type": "code",
   "execution_count": 38,
   "id": "bfd7deb1",
   "metadata": {},
   "outputs": [
    {
     "name": "stdout",
     "output_type": "stream",
     "text": [
      "<class 'pandas.core.frame.DataFrame'>\n",
      "Int64Index: 4340460 entries, 0 to 4358538\n",
      "Data columns (total 2 columns):\n",
      " #   Column              Dtype \n",
      "---  ------              ----- \n",
      " 0   col:scientificName  object\n",
      " 1   col:rank            object\n",
      "dtypes: object(2)\n",
      "memory usage: 99.3+ MB\n"
     ]
    }
   ],
   "source": [
    "taxon.info(100)"
   ]
  },
  {
   "cell_type": "code",
   "execution_count": 39,
   "id": "eb751fdb",
   "metadata": {},
   "outputs": [],
   "source": [
    "# taxon.drop(taxon[taxon['col:rank']=='family'].index, inplace=True)\n",
    "# taxon.drop(taxon[taxon['col:rank']=='superfamily'].index, inplace=True)\n",
    "# taxon.drop(taxon[taxon['col:rank']=='infraorder'].index, inplace=True)\n",
    "taxon.drop(taxon[taxon['col:rank']=='order'].index, inplace=True)\n",
    "\n",
    "# I did a lof of these by hand in BBEdit after these few removals."
   ]
  },
  {
   "cell_type": "code",
   "execution_count": 18,
   "id": "4531d33d",
   "metadata": {},
   "outputs": [],
   "source": [
    "taxon.to_json(\"species.json\")"
   ]
  },
  {
   "cell_type": "code",
   "execution_count": 46,
   "id": "2dd7b2f9",
   "metadata": {},
   "outputs": [],
   "source": [
    "taxon.to_csv(\"species.txt\", index=False)"
   ]
  }
 ],
 "metadata": {
  "kernelspec": {
   "display_name": "Python 3 (ipykernel)",
   "language": "python",
   "name": "python3"
  },
  "language_info": {
   "codemirror_mode": {
    "name": "ipython",
    "version": 3
   },
   "file_extension": ".py",
   "mimetype": "text/x-python",
   "name": "python",
   "nbconvert_exporter": "python",
   "pygments_lexer": "ipython3",
   "version": "3.9.7"
  }
 },
 "nbformat": 4,
 "nbformat_minor": 5
}
