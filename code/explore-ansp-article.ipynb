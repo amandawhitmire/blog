{
 "cells": [
  {
   "cell_type": "code",
   "execution_count": null,
   "id": "7a99463d-7a3c-461b-9c99-ffd2017945c5",
   "metadata": {},
   "outputs": [],
   "source": []
  },
  {
   "cell_type": "markdown",
   "id": "f5486a32-b8fa-4a07-926e-05969b4ba720",
   "metadata": {
    "tags": []
   },
   "source": [
    "## 1. Downloading spaCy models\n",
    "\n",
    "The first step is to download the spaCy model. The model has been pre-trained on annotated English corpora. You only have to run these code cells below the first time you run the notebook; after that, you can skip right to step 2 and carry on from there. (If you run them again later, nothing bad will happen; it’ll just download again.) You can also run spaCy in other notebooks on your computer in the future, and you’ll be able to skip the step of downloading the models."
   ]
  },
  {
   "cell_type": "code",
   "execution_count": 1,
   "id": "5d1e453b-3246-4090-82e8-16fb47d556e2",
   "metadata": {},
   "outputs": [],
   "source": [
    "#Imports the module you need to download and install the spaCy models\n",
    "import sys"
   ]
  },
  {
   "cell_type": "code",
   "execution_count": 2,
   "id": "571c26c8-1461-4f34-b302-521b2eecbcf7",
   "metadata": {},
   "outputs": [
    {
     "name": "stdout",
     "output_type": "stream",
     "text": [
      "Collecting https://github.com/explosion/spacy-models/releases/download/en_core_web_trf-3.1.0/en_core_web_trf-3.1.0.tar.gz\n",
      "  Downloading https://github.com/explosion/spacy-models/releases/download/en_core_web_trf-3.1.0/en_core_web_trf-3.1.0.tar.gz (460.2 MB)\n",
      "     |████████████████████████████████| 460.2 MB 11 kB/s               ██▏              | 246.4 MB 114.1 MB/s eta 0:00:029 MB/s eta 0:01:18  \n",
      "\u001b[?25h  Preparing metadata (setup.py) ... \u001b[?25ldone\n",
      "\u001b[?25hRequirement already satisfied: spacy<3.2.0,>=3.1.0 in /Users/thalassa/opt/anaconda3/envs/ansp/lib/python3.9/site-packages (from en-core-web-trf==3.1.0) (3.1.3)\n",
      "Requirement already satisfied: spacy-transformers<1.1.0,>=1.0.3 in /Users/thalassa/opt/anaconda3/envs/ansp/lib/python3.9/site-packages (from en-core-web-trf==3.1.0) (1.0.6)\n",
      "Requirement already satisfied: blis<0.8.0,>=0.4.0 in /Users/thalassa/opt/anaconda3/envs/ansp/lib/python3.9/site-packages (from spacy<3.2.0,>=3.1.0->en-core-web-trf==3.1.0) (0.7.4)\n",
      "Requirement already satisfied: jinja2 in /Users/thalassa/opt/anaconda3/envs/ansp/lib/python3.9/site-packages (from spacy<3.2.0,>=3.1.0->en-core-web-trf==3.1.0) (3.0.2)\n",
      "Requirement already satisfied: preshed<3.1.0,>=3.0.2 in /Users/thalassa/opt/anaconda3/envs/ansp/lib/python3.9/site-packages (from spacy<3.2.0,>=3.1.0->en-core-web-trf==3.1.0) (3.0.5)\n",
      "Requirement already satisfied: packaging>=20.0 in /Users/thalassa/opt/anaconda3/envs/ansp/lib/python3.9/site-packages (from spacy<3.2.0,>=3.1.0->en-core-web-trf==3.1.0) (21.0)\n",
      "Requirement already satisfied: numpy>=1.15.0 in /Users/thalassa/opt/anaconda3/envs/ansp/lib/python3.9/site-packages (from spacy<3.2.0,>=3.1.0->en-core-web-trf==3.1.0) (1.21.2)\n",
      "Requirement already satisfied: setuptools in /Users/thalassa/opt/anaconda3/envs/ansp/lib/python3.9/site-packages (from spacy<3.2.0,>=3.1.0->en-core-web-trf==3.1.0) (58.2.0)\n",
      "Requirement already satisfied: catalogue<2.1.0,>=2.0.6 in /Users/thalassa/opt/anaconda3/envs/ansp/lib/python3.9/site-packages (from spacy<3.2.0,>=3.1.0->en-core-web-trf==3.1.0) (2.0.6)\n",
      "Requirement already satisfied: tqdm<5.0.0,>=4.38.0 in /Users/thalassa/opt/anaconda3/envs/ansp/lib/python3.9/site-packages (from spacy<3.2.0,>=3.1.0->en-core-web-trf==3.1.0) (4.62.3)\n",
      "Requirement already satisfied: spacy-legacy<3.1.0,>=3.0.8 in /Users/thalassa/opt/anaconda3/envs/ansp/lib/python3.9/site-packages (from spacy<3.2.0,>=3.1.0->en-core-web-trf==3.1.0) (3.0.8)\n",
      "Requirement already satisfied: requests<3.0.0,>=2.13.0 in /Users/thalassa/opt/anaconda3/envs/ansp/lib/python3.9/site-packages (from spacy<3.2.0,>=3.1.0->en-core-web-trf==3.1.0) (2.26.0)\n",
      "Requirement already satisfied: thinc<8.1.0,>=8.0.9 in /Users/thalassa/opt/anaconda3/envs/ansp/lib/python3.9/site-packages (from spacy<3.2.0,>=3.1.0->en-core-web-trf==3.1.0) (8.0.10)\n",
      "Requirement already satisfied: wasabi<1.1.0,>=0.8.1 in /Users/thalassa/opt/anaconda3/envs/ansp/lib/python3.9/site-packages (from spacy<3.2.0,>=3.1.0->en-core-web-trf==3.1.0) (0.8.2)\n",
      "Requirement already satisfied: typer<0.5.0,>=0.3.0 in /Users/thalassa/opt/anaconda3/envs/ansp/lib/python3.9/site-packages (from spacy<3.2.0,>=3.1.0->en-core-web-trf==3.1.0) (0.4.0)\n",
      "Requirement already satisfied: pydantic!=1.8,!=1.8.1,<1.9.0,>=1.7.4 in /Users/thalassa/opt/anaconda3/envs/ansp/lib/python3.9/site-packages (from spacy<3.2.0,>=3.1.0->en-core-web-trf==3.1.0) (1.8.2)\n",
      "Requirement already satisfied: cymem<2.1.0,>=2.0.2 in /Users/thalassa/opt/anaconda3/envs/ansp/lib/python3.9/site-packages (from spacy<3.2.0,>=3.1.0->en-core-web-trf==3.1.0) (2.0.5)\n",
      "Requirement already satisfied: murmurhash<1.1.0,>=0.28.0 in /Users/thalassa/opt/anaconda3/envs/ansp/lib/python3.9/site-packages (from spacy<3.2.0,>=3.1.0->en-core-web-trf==3.1.0) (1.0.5)\n",
      "Requirement already satisfied: pathy>=0.3.5 in /Users/thalassa/opt/anaconda3/envs/ansp/lib/python3.9/site-packages (from spacy<3.2.0,>=3.1.0->en-core-web-trf==3.1.0) (0.6.0)\n",
      "Requirement already satisfied: srsly<3.0.0,>=2.4.1 in /Users/thalassa/opt/anaconda3/envs/ansp/lib/python3.9/site-packages (from spacy<3.2.0,>=3.1.0->en-core-web-trf==3.1.0) (2.4.1)\n",
      "Requirement already satisfied: transformers<4.10.0,>=3.4.0 in /Users/thalassa/opt/anaconda3/envs/ansp/lib/python3.9/site-packages (from spacy-transformers<1.1.0,>=1.0.3->en-core-web-trf==3.1.0) (4.9.2)\n",
      "Requirement already satisfied: spacy-alignments<1.0.0,>=0.7.2 in /Users/thalassa/opt/anaconda3/envs/ansp/lib/python3.9/site-packages (from spacy-transformers<1.1.0,>=1.0.3->en-core-web-trf==3.1.0) (0.8.3)\n",
      "Requirement already satisfied: torch>=1.5.0 in /Users/thalassa/opt/anaconda3/envs/ansp/lib/python3.9/site-packages (from spacy-transformers<1.1.0,>=1.0.3->en-core-web-trf==3.1.0) (1.9.1)\n",
      "Requirement already satisfied: pyparsing>=2.0.2 in /Users/thalassa/opt/anaconda3/envs/ansp/lib/python3.9/site-packages (from packaging>=20.0->spacy<3.2.0,>=3.1.0->en-core-web-trf==3.1.0) (2.4.7)\n",
      "Requirement already satisfied: smart-open<6.0.0,>=5.0.0 in /Users/thalassa/opt/anaconda3/envs/ansp/lib/python3.9/site-packages (from pathy>=0.3.5->spacy<3.2.0,>=3.1.0->en-core-web-trf==3.1.0) (5.2.1)\n",
      "Requirement already satisfied: typing-extensions>=3.7.4.3 in /Users/thalassa/opt/anaconda3/envs/ansp/lib/python3.9/site-packages (from pydantic!=1.8,!=1.8.1,<1.9.0,>=1.7.4->spacy<3.2.0,>=3.1.0->en-core-web-trf==3.1.0) (3.10.0.2)\n",
      "Requirement already satisfied: certifi>=2017.4.17 in /Users/thalassa/opt/anaconda3/envs/ansp/lib/python3.9/site-packages (from requests<3.0.0,>=2.13.0->spacy<3.2.0,>=3.1.0->en-core-web-trf==3.1.0) (2021.10.8)\n",
      "Requirement already satisfied: idna<4,>=2.5 in /Users/thalassa/opt/anaconda3/envs/ansp/lib/python3.9/site-packages (from requests<3.0.0,>=2.13.0->spacy<3.2.0,>=3.1.0->en-core-web-trf==3.1.0) (3.1)\n",
      "Requirement already satisfied: urllib3<1.27,>=1.21.1 in /Users/thalassa/opt/anaconda3/envs/ansp/lib/python3.9/site-packages (from requests<3.0.0,>=2.13.0->spacy<3.2.0,>=3.1.0->en-core-web-trf==3.1.0) (1.26.7)\n",
      "Requirement already satisfied: charset-normalizer~=2.0.0 in /Users/thalassa/opt/anaconda3/envs/ansp/lib/python3.9/site-packages (from requests<3.0.0,>=2.13.0->spacy<3.2.0,>=3.1.0->en-core-web-trf==3.1.0) (2.0.0)\n",
      "Requirement already satisfied: tokenizers<0.11,>=0.10.1 in /Users/thalassa/opt/anaconda3/envs/ansp/lib/python3.9/site-packages (from transformers<4.10.0,>=3.4.0->spacy-transformers<1.1.0,>=1.0.3->en-core-web-trf==3.1.0) (0.10.3)\n",
      "Requirement already satisfied: sacremoses in /Users/thalassa/opt/anaconda3/envs/ansp/lib/python3.9/site-packages (from transformers<4.10.0,>=3.4.0->spacy-transformers<1.1.0,>=1.0.3->en-core-web-trf==3.1.0) (0.0.46)\n",
      "Requirement already satisfied: pyyaml>=5.1 in /Users/thalassa/opt/anaconda3/envs/ansp/lib/python3.9/site-packages (from transformers<4.10.0,>=3.4.0->spacy-transformers<1.1.0,>=1.0.3->en-core-web-trf==3.1.0) (6.0)\n",
      "Requirement already satisfied: filelock in /Users/thalassa/opt/anaconda3/envs/ansp/lib/python3.9/site-packages (from transformers<4.10.0,>=3.4.0->spacy-transformers<1.1.0,>=1.0.3->en-core-web-trf==3.1.0) (3.3.0)\n",
      "Requirement already satisfied: huggingface-hub==0.0.12 in /Users/thalassa/opt/anaconda3/envs/ansp/lib/python3.9/site-packages (from transformers<4.10.0,>=3.4.0->spacy-transformers<1.1.0,>=1.0.3->en-core-web-trf==3.1.0) (0.0.12)\n",
      "Requirement already satisfied: regex!=2019.12.17 in /Users/thalassa/opt/anaconda3/envs/ansp/lib/python3.9/site-packages (from transformers<4.10.0,>=3.4.0->spacy-transformers<1.1.0,>=1.0.3->en-core-web-trf==3.1.0) (2021.10.8)\n",
      "Requirement already satisfied: click<9.0.0,>=7.1.1 in /Users/thalassa/opt/anaconda3/envs/ansp/lib/python3.9/site-packages (from typer<0.5.0,>=0.3.0->spacy<3.2.0,>=3.1.0->en-core-web-trf==3.1.0) (7.1.2)\n",
      "Requirement already satisfied: MarkupSafe>=2.0 in /Users/thalassa/opt/anaconda3/envs/ansp/lib/python3.9/site-packages (from jinja2->spacy<3.2.0,>=3.1.0->en-core-web-trf==3.1.0) (2.0.1)\n",
      "Requirement already satisfied: joblib in /Users/thalassa/opt/anaconda3/envs/ansp/lib/python3.9/site-packages (from sacremoses->transformers<4.10.0,>=3.4.0->spacy-transformers<1.1.0,>=1.0.3->en-core-web-trf==3.1.0) (1.1.0)\n",
      "Requirement already satisfied: six in /Users/thalassa/opt/anaconda3/envs/ansp/lib/python3.9/site-packages (from sacremoses->transformers<4.10.0,>=3.4.0->spacy-transformers<1.1.0,>=1.0.3->en-core-web-trf==3.1.0) (1.16.0)\n"
     ]
    }
   ],
   "source": [
    "#Installs the English spaCy model\n",
    "!{sys.executable} -m pip install https://github.com/explosion/spacy-models/releases/download/en_core_web_trf-3.1.0/en_core_web_trf-3.1.0.tar.gz"
   ]
  },
  {
   "cell_type": "markdown",
   "id": "efe8037c-6d8c-48d7-a1cd-a047bb80cc87",
   "metadata": {},
   "source": [
    "## 2. Importing spaCy and setting up NLP\n",
    "\n",
    "Run the code cell below to import the spaCy module, and create a functions to loads the Englsih model and run the NLP algorithms (includes named-entity recognition)."
   ]
  },
  {
   "cell_type": "code",
   "execution_count": 3,
   "id": "10de964d-3997-4d13-9c78-df4162736fff",
   "metadata": {},
   "outputs": [],
   "source": [
    "#Imports spaCy\n",
    "import spacy\n",
    "\n",
    "#Imports the English model\n",
    "import en_core_web_trf"
   ]
  },
  {
   "cell_type": "markdown",
   "id": "c5e6656d-c85c-4a79-9dff-c0f896cacd24",
   "metadata": {},
   "source": [
    "## 3. Importing other modules\n",
    "\n",
    "There’s various other modules that will be useful in this notebook. The code comments explain what each one is for. This code cell imports all of those."
   ]
  },
  {
   "cell_type": "code",
   "execution_count": 4,
   "id": "c6fe3aac-1e68-4ab8-875f-06aae5c448ac",
   "metadata": {},
   "outputs": [],
   "source": [
    "#io is used for opening and writing files\n",
    "import io\n",
    "\n",
    "#glob is used to find all the pathnames matching a specified pattern (here, all text files)\n",
    "import glob\n",
    "\n",
    "#os is used to navigate your folder directories (e.g. change folders to where you files are stored)\n",
    "import os\n",
    "\n",
    "# for handling data frames, etc.\n",
    "import pandas as pd\n",
    "\n",
    "# Import the spaCy visualizer\n",
    "from spacy import displacy\n",
    "\n",
    "# Import the Entityt Ruler for making custom entities\n",
    "from spacy.pipeline import EntityRuler\n",
    "\n",
    "import datetime \n"
   ]
  },
  {
   "cell_type": "markdown",
   "id": "dc3fc51d-dea3-4c5d-bb93-9830476913da",
   "metadata": {},
   "source": [
    "## 4. Diretory setup\n",
    "\n",
    "Assuming you’re running Jupyter Notebook from your computer’s home directory, this code cell gives you the opportunity to change directories, into the directory where you’re keeping your project files. I've put just a few of the ANSP volumes into a folder called `subset`."
   ]
  },
  {
   "cell_type": "code",
   "execution_count": 5,
   "id": "4b077858-065b-46f6-985b-79bbf8cb64d6",
   "metadata": {},
   "outputs": [],
   "source": [
    "#Define the file directory here\n",
    "filedirectory = '/Users/thalassa/Rcode/blog/data/animals-clean'\n",
    "\n",
    "#Change the working directory to the one you just defined\n",
    "os.chdir(filedirectory)"
   ]
  },
  {
   "cell_type": "code",
   "execution_count": 6,
   "id": "ee3b76eb-13ba-44cd-84e9-ac5fd160ace3",
   "metadata": {},
   "outputs": [
    {
     "name": "stderr",
     "output_type": "stream",
     "text": [
      "[nltk_data] Downloading package averaged_perceptron_tagger to\n",
      "[nltk_data]     /Users/thalassa/nltk_data...\n",
      "[nltk_data]   Package averaged_perceptron_tagger is already up-to-\n",
      "[nltk_data]       date!\n",
      "[nltk_data] Downloading package tagsets to\n",
      "[nltk_data]     /Users/thalassa/nltk_data...\n",
      "[nltk_data]   Package tagsets is already up-to-date!\n"
     ]
    },
    {
     "data": {
      "text/plain": [
       "True"
      ]
     },
     "execution_count": 6,
     "metadata": {},
     "output_type": "execute_result"
    }
   ],
   "source": [
    "import nltk\n",
    "from nltk import tokenize\n",
    "from nltk.tokenize import word_tokenize, sent_tokenize\n",
    "import json\n",
    "nltk.download('averaged_perceptron_tagger')\n",
    "from nltk import pos_tag_sents\n",
    "nltk.download('tagsets')"
   ]
  },
  {
   "cell_type": "code",
   "execution_count": 9,
   "id": "0e696f23-c66f-42b7-b48f-0aa1814f63de",
   "metadata": {},
   "outputs": [],
   "source": [
    "with open('/Users/thalassa/Rcode/blog/data/animals-clean/44pg098-clean-taxa.txt', 'r') as f:\n",
    "    text = f.read()"
   ]
  },
  {
   "cell_type": "code",
   "execution_count": 9,
   "id": "6e844012-0cf4-4cb7-b900-74c21609eb88",
   "metadata": {},
   "outputs": [],
   "source": [
    "sentences = tokenize.sent_tokenize(text)"
   ]
  },
  {
   "cell_type": "code",
   "execution_count": 10,
   "id": "cb5e3c05-cb0a-458b-a819-b61b6dc96716",
   "metadata": {},
   "outputs": [
    {
     "name": "stdout",
     "output_type": "stream",
     "text": [
      "['THE BIRDS OF SOUTHEASTERN TEXAS AND SOUTHERN ARIZONA OBSERVED DURING MAY JUNE AND JULY 1891.', 'BY SAMUEL N. RHOADS.', 'With the idea of investigating the avifauna of the southern border of the United States and collectiug a series of the birds of Florida Texas and Arizona I left Philadelphia March 26th 1891 arriving at Jacksonville Florida on the fifth of the following month.', 'A sojourn of five weeks was made in the southwestern part of the state and considerable collections obtained.', 'Few facts additional to what has been already written on the bird life of this region were ascertained and it is not my intention to treat in detail of this part of the trip.', \"I arrived at Corpus Christi Texas May 17th and here a three weeks' stay was made.\", 'I then journeyed westward to Tucson Arizona arriving on the tenth of June and collecting birds in the immediate vicinity until the nineteenth.', 'That morning I took stage for Oracle a posthamlet situated in the oak belt forty miles north ward among the foothills of the Catalina Mountains.', 'Collecting Avas carried on in that vicinity until July 2nd Avhen the mountains were ascended and I took up my abode for a week in a lumber camp among the pines of Mt.', 'Lemon at an elevation of between 7000 and 8000 ft. and about 2000 feet below the summit of that mountain.', 'The birds of southern Texas especially those in the vicinity of Corpus Christi have received no small amount of attention from naturalists.', 'Mr. Beckham enumerates eight publications bearing directly on this subject prior to his own which appeared in 1887.', 'Within a few months Mr. Chapman has published a paper giving the results of his observations made on exactly the same ground which I covered three weeks later.', 'In fact I was conducted by Mr. Priour who acted as my guide to the same collecting grounds in the immediate vicinity of Corpus Christi and along the Nueces River and 1 Mr. Rhoads has generously presented his entire collection numbering about one thou.sand skins to the Academy of Natural Sciences of Philadelphia.', 'The Texas series numbers 23\\nspecimens and the Arizona collection 398.', \"Owing to Mr. Rhoads' absence from Philadelphia when preparing this paper he was unable to make a critical examination of the specimens and at his request I have added utiles on such as exhibited any peculiarities  these annotations are followed by my initials.\", 'Witmer Stone.', '2 Proc.', 'U. S. Nat.', 'Mus.', 'Vol.', '10 p. 683.', 'Bull.', 'Am.', 'Mus.', 'Nat.', 'Hist.', 'Vol.', 'Ill No.', '3.', 'Bay svliich lie had previously visited with Mr. Chapman.', 'The interval between our visits however gave opportunity for a decided readjustment of the bird fauna due to migration and the nesting of resident species.', \"Mr. Beckham's personal observations of Texan birds terminated in March and so far as I can discover very few if any of our observers have recorded data relating to the early summer birds of the Corpus Christi region Dresser's summer notes relating chiefly to the vicinity of San Antonio\\nFurther description of the region included in the following notes would be superfluous after all that the aforementioned authors have written on the subject.\", 'Before proceeding with the annotated list hoAvever the following observations may be made.', \"Though nearly all the nonresident birds had passed through and a drouth existed quite equal in severity to that prevailing during Mr. Beckman's stay my experience agrees with that of Mr. Chapman  birds were abundant everywhere.\", 'Nearly half of the birds observed were feeding their young before my departure and in many cases the fullfledged young Avere procured.', 'This rendered all the more conspicuous the fact that many boreal species especially among the water birds still lingered.', 'I received corroboration in various ways that the annual overstepping of fauual limits by many species belonging to a more southerly district and their subsequent disappearance toward the end of the spring migration is a marked feature at Corpus Christi.', 'These birds undoubtedly return in due time to their ancestral haunts in Mexico ere the breeding season begins.', 'To what extent this movement due undoubtedly to the sexual excitability and ignorance of the country exhibited by birds of the first year should be held to account for the  faunal inosculation  which Beckham speaks of I am unable t prove.', 'From all that may be proven by and inferred from the observations of collectors in this region ten years ago it seems that several species are now represented in the avifauna of Corpus Christi which were then strangers to it.', 'Owing to the position of this territory forming as it were the keystone of three great faunal arches eastern western and southern where in time past the birds from their respective regions approached so nearly that a slight change in physical or climatic conditions would precipitate more intimate relations.', 'Precisely such a state of affairs has happened and the intermingling of races and species on new territory has become permanent.', 'In seeking a cause for this I am led to the belief that it is due chiefly to the introduction of cattle.', 'When we remember that the growth of dense mesquite chaparral which now forms such a marked feature in the landscape of southeastern Texas and is steadily encroaching upon the tithe of open prairie yet remaining is directly due to the grazing of immense herds of cattle which have in their search for subsistence robbed the prairie fire of its fuel and at the same time distributed the seeds of mesquite and other arborescent shrubs this statement may not appear as paradoxical as it seems.', 'The comparatively sudden conversion of many square miles of debatable ornithological ground from prairie to brushland in this manner would aflbrd just such inducements to arboreal birds in the further extension of their winter range from the north and their summer range from the south as now exist.', 'On the other hand as the true prairie lands diminish the more strictly plainhaunting species must disappear.', 'A comparison of the relative abundance of the species noted by Beckham as compared with the same observed this year by Mr. Chapman and myself tends to prove this.', \"Even in 1887 the date of Beckham's observations.\", 'Dr. Havard reports the mesquite as  shrubby  and Beckham characterizes it as  a dreary waste of cactus etc.', 'The growth of mesquite in the surrounding country even since then will tally well with the faunal changes recorded for it must be borne in mind that until say seven years ago the overstocking of pasture with cattle and the consequent efiect upon a previously superabundant pasturage did not aflTect the country far from city limits  so that beyond a comparatively small area surrounding the city the virgin prairie retained its original features.', 'For this reason birds were scarce not so much because of drouth but for lack of shelter and food suited to those of arboreal habits.', 'Many insectivorous birds are found breeding in localities where water is unobtainable save in the form of dew and owing to the juicy nature of their food they can most likely enjoy life indefinitely without the luxury of a drink.', 'It seems therefore probable that the late increase of passerine birds in this part of Texas is due not to an excess of rainfall or to the absence of droughts in late years but to the vast extension of treecovered areas into the prairie and the increase of insect and vegetable food resulting from this cause  and these conditions apply not only to the increase of individuals among old forms but equally to the additional species now ascribed to the Corpus Christi fauna.', 'The subjoined list includes all birds observed by me those species of which I did not obtain specimens being indicated by an asterisk.', 'I wish here to acknowledge my grateful indebtedness to Mr. Witmer Stone Conservator of the Ornithological Section of the Academy of Natural Sciences of Philadelphia not only for receiving and caring for the collection during my absence but also for invaluable aid in the identification of the material and in revising my notes.', 'Texas.', '1.', 'Larus atricilla Linn.', 'Laughing Gull.', 'Common breeding abundantly about Corpus Christi Bay.', 'Nearly a third of those observed still retained the young autumnal plumage of last year.', '2.', 'Larus franklinii Sw.  Rich.', \"Franklin's Gull.\", 'Five or six individuals of this exquisite gull were noted and one male was taken on the first of June.', 'The female which accompanied it escaped me.', \"The presence of this species at so late a date seems to corroborate Mr. Prion r's assertion that a few remain to breed.\", \"The flycatching habits of Franklin's Gull are noteworthy.\", \"I have seen a pair rise from a sandbar and proceeding directly to the mainland begin to beat the chaparral in a most systematic manner for hours at a stretch keeping meanwhile just out of gunshot and leisurely gathering in company with Henry's Nighthawk the superabundant insect food which came in their way.\", '3.', 'Gelochelidon nilotica Hasselq..\\nGullbilled Tern.', 'Breeding on the marshes but not common.', '4.', 'Sterna tschegrava Lepech.', 'Caspian Tern.', 'Common but not found breeding in Nueces Bay.', '5.', 'Sterna forsteri Nutt.', \"Forster's Tern.\", 'Most abundant of the genus and like its northern congeners the first to proclaim and resent the presence of an intruder on its breeding grounds.', '6.', 'Sterna antillarum Less..', 'Least Tern.', 'It is surprising that no one has recorded the Least Tern in Texas.', 'Priour assured me that before the destruction carried on a 1 Merrill and SenneU found it breeding on sandbars in the Rio Grande.', 'few years ago the  Striker as he calls it was abundant.', 'I found several skins of this species among some thousand millinery pelts collected in this locality by Messrs. Fancher and Noakes of Corpus Christi.', 'On one occasion I noted a flock of a dozen flying near the town and I rarely went to the bay without seeing three or four.', 'From the action of these birds I judge they made their headquarters further south and were breeding.', '7.', 'Hydrochelidon nigra surinamensis Gmel..\\nAmerican Black Tern.', 'Saw this bird only at the mouth of the Nueces River where one Avas secured a full plumaged breeding male.', 'Saw nearly a dozen altogether always singly.', 'This species is also heretofore unrecorded from the vicinity of Corpus Christi.', '8.', 'Rhynchops nigra Linn.', 'Black Skimmer.', 'Abundant and breeding.', '9.', 'Phalacrocorax mexicanus Brandt.', 'Mexican Cormorant.', 'An immense flock of these birds was found sitting on the peninsular flats around the margin of an old pond.', 'One individual shot from this flock was a young male of the year.', 'These birds had evidently done breeding but just where they do breed I was unable to discover.', '10.', 'Anas fulvigula maculosa Senn..\\nMottled Duck.', 'This is the commonest representative of its family on Nueces Bay in June where it breeds in the marshes.', '11.', 'Spatula clypeata Linn..\\nShoveller.', 'A few were observed at the mouth of the Nueces River.', '72.', 'Ajaja ajaja Linn..\\nRoseate Spoonbill.', 'On the 28th of May accompanied by Mr. Priour I sailed down to the mouth of the Nueces River in search of these birds.', \"At a distance of two miles a couple of large flocks could be descried as a dull rosy streak along the water's edge.\", 'We approached near enough to make with the aid of a glass an excellent survey of the flocks in the act of feeding before they noticed our jiresence.', 'When within about two hundred yards of them the whole company of four or five hundred individuals simultaneously raised their heads and faced about.', 'On approaching some fifty yards nearer the sudden righting about just mentioned was succeeded by a most interesting series of manoeuvres consisting of a contraction and filling in of all the gaps in the line  and just as this was completed with a rush of wiugs aud a glorious burst of color they arose.', 'Many other detachments joined them until the entire flock numbered about six hundred.', 'Most of these alighted some two miles ofl while a few returned to their former feeding ground.', 'All of these birds including the young were moulting.', 'The adults were just shedding their brilliant scarlet patches and their skins Avere bristling with pin feathers.', 'Fully onethird were in the whitish plumage of the first year.', 'According to Mr. Priour the Spoonbill attains its maximum plumage development some time in January but he was unable to state whether this was due to a second moult in December or whether there is merely a wearing away of the tips of the feathers as in Agelaius and other birds.', 'The Spoonbills now leave the vicinity of Corpus Christi the latter part of February and though a few stragglers sometimes remain all the year none have been known to breed on the Texas coast of late years.', \"This state of affairs is probably due to their persecution and to the destruction of the forests between Corjus Christi and Brownsville which used to reach nearer the river mouths affording this formerly abundant species suitable rookery sites.'\", 'It is probable that most of the flock of birds seen on Nueces Bay were raised somewhere on the coast south of Brownsville.', 'After raiinotheir young in comparative safety they return yearly to this spot to spend the summer and early winter months arriving in considerable numbers even so early as the latter part of April and attaining their maximum numbers in the latter part of May.', 'Their evident attachment to the vicinity of Nueces Bay must be due to the facilities it affords them in the great item of food supply for the reception accorded these birds by Corpus Christi gunners is far from encouraging.', '13.', 'Botaurus exilisGmel..', 'Least Bittern.', 'How this bird could have been overlooked by former observers I cannot conceive.', 'Several were flushed in the marshes of Nueces Bay and two were secured one of them a female with distended ovaries.', '14.', 'Ardea herodias Linn.', 'Great Blue Heron.', 'One seen.', '15.', 'Ardea egretta GmeL American Egret.', 'Three seen.', 'Merrill and Sennet found a few in a lagoon heronry on the Rio Granie.', '16.', 'Ardea tricolor ruficoUis Gosse.', 'Louisiana Heron.', 'One of these birds was seen among the reeds at the mouth of the Nueces River.', '17.', 'Ardea virescens Linn Green Heron.', 'Several seen.', '18.', 'Nycticorax nycticorax nsevius Bodd..\\nNight Heron.', 'Immense numbers of this species were found in the tali brake at the Nueces River mouth.', 'The flocks were composed of young and old in every stage of plumage and had evidently resorted thither from some distant rookery as no signs of nests could be found in the immediate vicinity.', '19.', 'Rallus elegans Aud.', 'King Rail.', 'A rail presumably of this species was flushed twice in the peninsular marsh near the city but I failed to secure it.', '20.', 'Recurvirostra americana Gmel.', 'Avocet.', 'Pairs and scattered individuals were seen throughout my stay.', 'Mr. Priour states they breed in the vicinity.', '21.', 'Himantopus mexioanus Miill..\\nBlacknecked Stilt.', 'This clamorous and uneasy bird breeds abundantly in suitable places near Corpus Christi.', 'Nests with eggs but no young were found.', '22.', 'Tringa maculata Vieill.', 'Pectoral Sandpiper.', 'Three seen one of which I secured.', '23.', 'Tringa fuscicollis Vieill.', 'Whiterumped Sandpiper.', 'Nearly a dozen of these wary birds frequented the salt ponds on the mainland shore of Nueces Bay.', 'One was shot.', 'This species does not appear to have been observed here before.', '24.', 'Ereunetes pusillus Linn.', 'Semipalmated Sandpiper.', 'Small flocks were frequently seen and several specimens secured.', '25.', 'Tetanus melanoleucus Gmel..', 'Greater Yellowlegs.', 'A pair evidently mated were shot.', '26.', 'Symphemia semipalmata inornata Brewst.', 'AVestern AVillet.', 'Two specimens probably referable to this race were obtained.', 'Willets were breeding in limited numbers on the city flats.', 'm 27.', 'Numenius longirostris Wils.', 'Longbilled Curlew.', 'Three were noted.', 'They seemed to have done breeding.', '28.', 'Charadrius squatarola Linn..\\nBlackbellied Plover.', 'The abundance of this Plover so late as the seventh of June in this neighborhood is of interest.', '29.', 'Aegialitis vocifera Linn..\\nKildeer.', 'Not abundant.', '30.', 'Aegialitis semipalmata Bonap.', 'Semipalmated Plover.', 'One seen.', \"3L Aegialitis wilsonia Ord..\\nWilson's Plovei Breeding abundantly along the bayside.\", '32.', 'Arenaria interpres Linn..\\nTurnstone.', 'My remarks on Charadrius squatarola apply with equal force to the Turnstone.', '33.', 'Colinus virginianus texanus Lawr..\\nTexan Bobwhite.', 'Abundant.', '34.', 'Meleagris gallopavo Linn.', 'Wild Turkey.', 'Although I spent some time in the vicinity where Mr. Chapman secured his specimens and visited well known turkeyroosts at night I was unable to secure any of these birds.', '35.', 'Zenaidura macroura Linn..\\nMourning Dove Nowhere in the United States have I found this bird more abundant than in Texas.', 'A dozen to twenty nests could be found in nearly every acre of chaparral and frequently two nests would be found in the same mesquite bush.', '36.', 'Cathartes aura Linn..\\nTurkey Vulture.', 'Abundant.', '37.', 'Catharista atrata Bartr..\\nBlack Vulture.', 'Saw two.', '38.', \"Parabuteo unicinctus harrisi Aud..\\nHarris'Hawk The commonest species.\", '39.', 'Buteo lineatus Gmel..\\nRedshouldered Hawk.', 'Found up the Nueces River.', '40.', 'Falco sparverius Linn.', 'Sparrow Hawk.', 'Frequently seen.', '41.', \"Polyborus cheriway Jacq..\\nAudubon's Caracara.\", 'Comparatively abundant.', '8 42.', 'Pandion haliaetus carolinensis Gmel..\\nAmerican Osprey.', 'Seen on two occasions near Nueces Bay.', '43.', 'Syrnium nebulosum Forst..', 'Barred Owl.', 'On the night of my encampment on the upper Nueces the peculiar hooting of this owl indicated its abundance.', '44.', 'Megascops asio mccallii Cass.', 'Texan Screech Owl.', 'Wherever the timber either in the form of upland  Mottes or riverside woodlands was sufficiently heavy to afford a retreat this owl was well represented.', '45.', 'Crotophaga sulcirostris Swains.', 'Groovebilled Ani.', 'A specimen was collected about ten miles west of Corjius by Mr. Priour just previous to my visit.', 'Another was seen on the second of June near the same spot.', '46.', 'Geococcyx californianus Less..\\nRoad Runner.', 'Breeding and common everywhere.', '47.', 'Coccyzus americanus Linn..\\nYellowbilled Cuckoo.', 'Frequently found and breeding.', '48.', 'Ceryle alcyon Linn..\\nKingfisher.', 'Saw two.', '49.', \"Dryobates scalaris bairdi Scl..\\nBaird's Woodpecker.\", 'Abundant but shy.', '50.', 'Melanerpes aurifrons Wagl..\\nGoldenfronted Woodpecker.', 'About Corpus Christi this bird is as abundant as the Flicker is in the east and invariably builds in telegraph joles and high fence posts.', 'In less settled parts they are rare.', '51.', \"Antrostomus carolinensis Gmel..\\nChuck Will's Widow.\", 'A specimen was secured near Corpus Christi in April by Mr. Priour.', 'I heard none during my stay.', '52.', 'Nyctidromus albicollis merrilli Senn..\\nParauque.', 'This Goatsucker was frequently heard throughout my stay both at Corpus Christi and around San Patricio.', 'Its monotonous whistling  weeooo is generally uttered while the bird is perched on a fence though I have often traced it to the ground both in the narrow cowpaths of the chaparral and in open glades.', 'A nest containing a single egg nearly hatched was found near San Patricio on the first of June.', '53.', 'Chordeiles virginianus henryi Cass..\\nWestern Nighthawk.', 'All the Xigbthawks shot around Corpus Christi appear to belong to this race.', 'C. texensis finds its southwestern breediug limit about midway between Corpus Christi and San Antonio during the migrations however texensis has been noticed by Priour a few miles west of Corpus Christi.', '54.', 'Chaetura pelagica Linn..\\nChimney Swift.', \"This species is another unaccountable omission fi'om Beckham's li.t.\", 'Though not common quite a number were seen.', '55.', 'Trochilus colubris Linn.', 'Rubythroated Hummingbird.', 'Three individuals seen.', '56.', 'Milvulus forficatus GmeL.', 'Scissortail Flycatcher.', 'Very common lut wary.', 'These elegant birds moult in the summer and by the first of June their bright colors are faded and the tailfeathers threadbare.', 'Out of a dozen specimens obtainei there were no exceptions to this rule though the breeding season had just begun.', 'The worn appearance of the tail is largely due to the necessary switching of it in the devious pursuit of insect prey  but it may also be attributed to the fact that the birds are somewhat terrestrial in tieir habits as I have observed them for hours gleaning insects in the open pastures and salt fiats near Corpus Christi alighting without hesitation in the short grass to secure or devour their food.', 'I have also observed the males mounting and gyrating together in the air after the manner of Kingbirds.', '57.', 'Tyrannus tyrannus Linn..\\nKingbird.', 'The only specimen of this species seen was obtained near Corpus Christi on May 30th.', '58.', 'Myiarchus crinitus Linn..\\nCrested Flycatcher.', 'Two were noted one of which was shot near the Nueces Eiver bottoms June sixth.', 'Another .specimen shot at Corpus Christi April 10th was obtained from Mr. Priour.', 'The latter specimen has a distinct dark band on the inner margin of the qu 11 of the outer tail feathers about e ual in width to the entire outer web.', 'Eastern birds frequenily have a narrow b.ind on the outer webs of the rectrices but I have never seen one quite so clearly marked as in the Texan example.', 'The color of the under surface of the body in tins specimen is moreover very dark excetding the average of eastern specimens in this respect.', 'In connection with the Tjxin species of Myiarchus a specimeii of M. cinernscens in the Academv Collection from Laredo Colin.', 'Dr. H. B.', 'Butcher Au 17 1866.', \"9 j is of inter st as beingthe most eastern record of this species that I have seen except in Prof. Cookes'  Bird Migration in the Mississippi Valley where it is said on the au hority of H. F. P.rters to be a summer resident at Bonham fifty miles northeast of Dallas.\", 'W. .S.', '59.', 'Myiarchus mexicanus Kaup..\\nMexican Crested Flycatcher.', \"A pair of these birds had a nest and eggs near Priour's house.\", '60.', 'Contopus borealis Swains..\\nOlivesided Flycatcher.', 'Two specimens were taken and about half a dozen seen.', 'They were noticed as late as June 8rd.', '61.', 'Contopus vi.rens Linn..\\nWood Pewee.', 'Common and judging from its actions a frequent breeder about Corpus Christi.', '62.', 'Pyrocephalus rubineus mexicanus Scl..\\nVermilion Flycatcher.', 'The eastern limit for the occurrence of this species lies about twenty miles west of Corpus Christi in a country to all appearances identical with that nearer the town.', \"The Texan Cardinal Pyirhiiloxia a bird of very different habits confines itself during the breeding season to exactly the same limits although it may be found during the winter and up to the first of May about Corpus Christi.'\", '63.', 'Otocoris alpestris giraudi Ilensh.', 'Texan Horned Lark.', 'Breeds commonly on the Corpus Christi flats.', 'The song of this species is very deceptive often seeming to come from the ground before you Avhile in fact the bird is high overhead.', '64.', 'Molothus ater obscurus Gmel..', 'Dwarf Cowbird.', 'Numerous everywhere.', '66.', 'Agelaius phoeniceus Linn..\\nRedwing Blackbird.', 'Breeding abundantly in the marshes around Nueces Bay.', 'Owing to the scarcity of water on the uplands this bird was rarely seen there.', '66.', 'Sturnella magna Linn.', 'Meadow Lark.', 'Just as I was leaving Corpus Christi a lark was brought to me in the flesh which undoubtedly belonged to the eastern race.', 'I was unfor1 As Mr. Chapman has remarked tiie Texas and Arizona specimens of Pyrocephalus are smaller than those from farther south and have smaller bills.', 'In point of color there is considerable difference as is shown in a good series of specimens.', 'I have already called attention Proc.', 'Acad.', 'Nat.', 'Sci.', 'Phil.', '1890 p. 28 to the rosy or pinkishred hue of Yucatan examples as contrasted with the vermilion sliade of those from other localities.', 'Indeed this difference seemed so constant that I was inclined to separate the former as a subspecies  an examination however of the material of the U. S. National Museum which was kindly loaned to me through Mr. Robert Ridgway shows that this idea was not supported.', 'In the series of twentynine Mexican and Central American specimens now before me four Yucatan specimens are pink one is vermilion and one intermediate while there is a bright pink specimen from Jalapa.', 'Two Honduras birds show patches of orangeyellow on the breast.', 'W. S. tunately unable to preserve it.', 'I saw only three larks during my stay.', 'They frequented the meadows of the bay and were excessively wild.', 'I feel sure they were not neglecta having on several occasions heard their song which had the unmistakable quality of magna.', 'In this respect my experience corroborates that of Hancock whom Beckham thinks mistaken.', 'The true state of aflftiirs is probably that during winter the races intermingle neglecta greatly predominating.', 'Before the first of May ie7edffl decamps into the interior to breed and a few of the true magna remain.', '67.', 'Icterus spurius Linn..\\nOrchard Oriole.', 'A few pairs found breeding.', '68.', 'Icterus galbula Linn..\\nBaltimore Oriole.', 'None seen.', 'A specimen shot a few days before my visit is in the collection.', '69.', \"Icterus bullocki Swains..\\nBullock's Oriole.\", 'Several observed.', 'Nest with young June 2nd.', '70.', 'Quiscalus quiscula aeneus Ridgw..\\nBronzed Crackle.', 'I observed this species industriously feeding its young along the San AntonioRiver.', 'None seen nor heard of at Corpus Christi.', '71.', 'Quiscalus macrourus Swains.', 'Greattailed Graekle.', 'While very numerous at Corpus Christi this Graekle attained a far greater abundance in the hackberry mottes along the road to San Patricio about fifteen miles west of Corpus Christi.', '72.', 'Ammodramus maritimus sennetti Allen.', 'Texan Seaside Finch.', 'Found it common on the Nueces Bay flats.', '73.', 'Chondestes grammacus Say.', 'Lark Sparrow.', 'Breeding commonly.', 'Fresh eggs and fullfledged young procured the same day May 30th.', '74.', \"Peucaea cassini Woodh..\\nCassin's Finch.\", 'Several found breeding in open pasture a mile from Corpus Christi.', '75.', 'Melospiza fasciata Gmel..\\nSong Sparrow.', 'A few of these were seen but none secured.', '76.', 'Embernagra rufivirgata Lawr.', 'Texas Sparrow.', 'As Mr. Chapman remarks this species does not seem to have been recorded from north of the Rio 3rrande prior to his visit to Corpus Christi and I think it most probable that twelve years ago it was not a member of the fauna of this region.', 'That it has become so since is easily accounted for by the facts already stated regarding the physical changes that have overspread the country in recent times.', 'I found the Texas Sparrow thoroughly at home in the Corpus Christi and San Patricio chaparral and secured their nests and fully fledged young.', '77.', 'Cardinalis cardinalis canicaudus Chapm.', 'Graytailed Cardinal.', 'I secured a series of fourteen specimens of this newly described race including seven females and five males.', '78.', 'Pyrrhuloxia sinuata Bonap.', 'Texan Cardinal.', 'Though common in the vicinity of the town during winter and early spring this species retires twenty miles westward to breed.', '79.', 'Fasserina ciris Linn..\\nPainfed Bunting.', 'Breeding abundantly everywhere.', '80.', 'Piranga rubra Linn..\\nSummer Tanager.', 'Not found at Corpus Christi but several were observed in the heavy chaparral twenty miles west of it also seen along the upper Nueces.', '81.', 'Progne subis Liun..\\nPurple Martin Common in the vicinity of towns.', '82.', 'Petrochelidon lunifrons Say.', 'Cliff Swallow.', 'Plentiful in flocks.', '83.', 'Chelidon erythrogaster Bodd..\\nBam Swallow.', 'Common.', 'Breeding.', '84.', 'Clivicola riparia Linn..\\nBank Swallow.', 'Very abundant.', '85.', 'Stelgidopteryx serripennis Aud..\\nRoughwinged Swallow.', 'Observed a few with the preceding species.', '86.', 'Lanius ludovicianus excubitorides Swains..\\nWhiterumped Shrike.', 'Scarce.', 'The young have the feathers of the head and interscapulum centered with black and bordered with ochraceous.', 'Beneath the breast and flanks are tinged w ith olivaceous and are marked with dark longitudinal markings belly yellowishwhite.', 'W. S.  Two young females have the bills entirely black as is the tendency in the young in this genus.', \"There is a female specimen in the Academy's Collection which agrees exactly with Mr. Rhoads birds and which was collected by Captain McCown at  Ringgold Barracks Texas  in 1857.\", \"W. S. ' 87.\", 'Vireo olivaceus Linn..\\nRedeyed Vireo.', 'A few were observed on the upper Nueces where they breed.', '88.', 'Vireo noveboracensis Gmel..\\nWhiteeyed Vireo.', 'Common around Corpus Christi and elsewhere.', '89.', \"Vireo bellii Aiul..\\nBell's Vireo.\", 'Numerous west of San Patricio where I found it breeding.', '90.', 'Dendroica aestiva Gmel..\\nYellow Warbler.', 'The only specimen observed was shot near Corpus Christi.', '91.', \"Seiurus noveboracensis notabilis Grinn..\\nGrinnell's Water Thrush.\", 'One specimen was procured.', '92.', 'Geothlypis trichas Linn..\\nMaryland Yellowthroat.', 'A female shot was the only one certainly seen.', 'Priour affirms that it breeds at the mouth of Nueces Bay.', '93.', 'Icteria virens Linn..\\nYellowbreasted Chat.', 'Only one of these birds a singing male was found.', 'Merrill and Sennett found it abundant at Fort Brown a fact which Beckham ionores.', \"Mr. Priour thinks it a very rare summer resident around Corpus Christi.'\", '94.', 'Mimus polyglottos Linn..\\nMockingbird.', 'Abundant breeder.', '95.', 'Harporhynchus longirostris sennetti Ridgw.', 'Texas Thrasher.', 'Several of these birds were observed and were evidently breeding in the impenetrable chaparral near the toAvn.', 'I was unable to secure any.', '96.', 'Thryothorus ludovicianus Lath..\\nCarolina Wren.', 'Only observed on the upper Nueces where they are frequent and had fledged young.', '97.', 'Thryothorus bewickii bairdi Salv.', \"Godm..\\nBaird's AVren.\", 'Very numerous and prolific everywhere.', '98.', 'Parus atricristatus Cass.', 'Blackcrested Titmouse.', 'Several seen on the Nueces in large timber.', '99.', 'Airiparus flaviceps Sund..\\nVerdin.', 'One specimen of the Verdin was secured.', 'Although many of their nests were found the breeding season was over and the old and young seemed to have left the country.', '1 This specimen seems intermediate in character being quite as gray as the average longicauda but is little different in size from typical virens.', 'W. S. 100.', 'Polioptila caerulea Linn..\\nBluegrajGnatcatcher.', 'Only one seen.', 'The following for various reasons appended should be mentioned in this connection   Dendrocygna autumnalis Linn..\\nIJlackbcllied Treeduck.', 'Dendrocygna fulva Jmel..\\nFulvous Treeduck.', \"Both these are mentioned in Dresser's and Merrill's lists but not from any locality north of the Rio Grande.\", 'Mr. Priour says that both breed on the Nueces marshes but produced no conclusive evidence.', 'Columba fiavirostris AVagl.', 'Redbilled Pigeon.', 'Another bird which Priour assures me straggles as far north as Corpus Christi in early spring.', 'Columbigallina passerina pallescens Baird.', 'Mr. Priour says this dove breeds in the town.', 'Strix pratincola Bonap.', 'Barn Owl.', 'I was shown several burrows in the face of a steep bank rising from Nueces Bay where this owl is said to breed regularly.', 'Speotyto cunicularia bypogaea Bonap..', 'Burrowing Owl The complete disappearance of this common and characteristic bird from the region of Corpus Christi is directly due to the usurpation of their prairie domain by the now ubiquitous chaparral.', 'Ceryle cabanisi Tschudi..\\nTexan Kingfisher.', 'This diminutive species never common seems to be growing rarer yearly.', 'I made especial search for it on the Nueces in a locality where it previously occurred but without success.', \".\\n'\", 'Ammodramus maritimus peninsulas \\nAllen.', \"Scott's Seasidesparrow.\", \"Mr. Chapman's remarks on this race and the deductions made therefrom may be somewhat simplified by the fact that I did not find any of the  black  Seaside Finches at the spot indicated nor anvwhere else in that vicinity though special search was made.\", 'I am inclined to think Mr. Priour mistaken in his belief that these dark birds remain during the summer.', 'APvIZONA.', 'As already observed my stay in southern Arizona covered the period between June 10th and July 12th the first eight days being spent in the immediate vicinity of Tucson the next twelve at Oracle iu the liveoak belt on the southern slopes of the Santa Catalina Mountains forty miles north of Tucson and part of the remaining ten days iu the pineclad region of their summits which rise some eight thousand feet above the Tucson level and five thousand above the elevation at Oracle.', 'The country covered by my rambles included the central 2art of a larger area iu Pima County explored by Mr AV.', 'E. D. Scott during a long residence in the Santa Catalinas.', \"For a more thorough understanding of the region in question and an excellent description of the natural characteristics of this part of Arizona I cannot do better than refer to Mr. Scott's introductory paper  On the Avifauna of Pinal County etc.\", 'published in the third volume of the  Auk.', 'As in the previous list those in the subjoined indicated by an asterisk are not re2resented in the collection no sjiecimens having been secured.', '1.', 'Anas strepera Linn.', 'GadwalL While exploring the upper waters of the Santa Clara four miles from Tucson I found a duck feeding on the river and shot at it but failed to kill it.', 'Shortly after it was secured by another gunner who was shooting in the vicinity and I was enabled to positively identify it.', \"From Mr. Scott's account it seems to be a rarity even as a visitant and this makes its occurrence in summer all the more noteworthy.\", '2.', 'Ardea herodias Linn.', 'Great Blue Heron.', 'Kare.', '3.', 'Ardea virescens Linn.', 'Green Heron.', 'A few noted in the valley.', '4.', 'Gallinula galeata Licht..\\nFlorida Gallinule.', 'A pair seen on Silver Lake near Tucson.', '5.', 'Fulica americana Gmel.', 'American Coot.', 'Also seen on the Santa Clara River.', '6.', 'Aegiahtis vocifera Linn..\\nKildeer.', 'Kot uncommon in the Santa Clara Valley.', '7.', 'Callipepla squamata Vig..', 'Scaled Partridge.', \"Wherever found the Scaled Quail was associated with Gambel's both on the mesas and in the lower edge of the oakbelts.\", \"One was shot near the hotel at Oracle but they rarely attain such an altitude even in the breeding season and are probably induced to wander awa3' from their usual haunts in search of water which is very scarce in June.\", 'Around Tucson I saw none of this species and not until I reached the lower mesa slopes did any appear.', 'At no time was I sure of finding them nntil fairly below the oak belt.', 'In numbers they ranked far below C gambeli not one in ten of all the partridges seen being squamata.', '8.', \"Callipepla gambeli Nutt..\\nGambel's Partridge.\", 'I did not meet with any flocks of this species in the valley.', 'They are very abundant in the oak belt ranging as high as the lower pines and at the time of my visit were leading about their families of young which varied in size from the newly hatched chick to half grown birds.', 'The male bird continues its harsh cry after the young have left the nest and for sufficient reasons too lengthy to be presented in this paper I am convinced they are polygamous whereas C. squamata is not.', '9.', 'Cyrtonyx montezumae Vig..\\nMassena Partridge.', 'Three  Fool Quails  were noticed on the higher slopes of the Catalinas one of them at an elevation of 7000 feet.', 'The habits of the Massena Partridges are very dissimilar to those of the genus Callipepla reminding one strongly of our eastern Bobwhite in their aptness for quick concealment and sudden flight.', '10.', 'Meleagris gallopavo mexicana iTould.', 'Mexican Turkey.', 'Owing to a disastrous fire in the Mt.', 'Lemon region of the Catalinas this bird once common has wholly abandoned that part of the country.', 'I did not see or hear of it elsewhere.', '11.', 'Columba fasciata Say.', 'Bandtailed Pigeon.', 'Found well dispersed throughout the oak and pine belts and breeding in the latter.', 'All nests examined contained either a single young or egg.', '12.', 'Columbigallina passerina pallescens Baird.', 'Mexican Ground Dove.', 'A few seen in the Tucson suburbs.', \"'13.\", 'Pseudogryphus californianus Shaw.', 'California Vulture.', 'I was informed by Mr. Jack Alwinkle a ranchman at Oracle that he shot a  Condor  several years ago near the summit of Mount Lemon.', 'It was perched on a huge rock some distance from their camp was shot to test the range of his rifle fell dead and after a careless examination was thrown away.', 'Besides these facts and his assertion that it was twice as large as a buzzard my informant added that it was the only one he had seen since leaving California where as a cowboy he had spent several years.', 'This statement of an excellent hunter and reliable observer should entitle this species to a place in the avifauna of Arizona.', '14.', 'Cathartes aura Linn..\\nTurkey Vulture.', 'Fairly common up to 4000 ft. 15.', \"Accipiter cooperi Bonap..\\nCooper's Hawk.\", 'Several couples found breeding and young secured.', '16.', 'Buteo borealis calurus Cass..\\nWestern Redtail.', 'Common.', 'A pair found as high as 8000 ft. 17.', 'Buteo abbreviatus Caban.', 'Zonetailed Hawk.', 'Some halfdozen noted one at 9000 ft. elevation.', 'A nest with two young Avas found in a caiion near Oracle in a juniper.', '18.', 'Buteo swainsoni Bonap.', \"Swainson's Hawk.\", 'I came suddenly upon a pair of these Hawks sitting on the bank at a bend in the Santa Clara but they escaped before I could secure them.', '19.', 'Aquila cbrysaetos Linn..\\nGolden Eagle.', 'A pair were observed sitting on the crags which overlook the Caiion DeOro above the trail to Mt.', 'Lemon.', '20Falco Sparverius Linn.', 'Sparrow Hawk.', 'Abundant everywhere.', '21.', \"Polyborus cheriway Jacq..\\nAudubon's Caracara.\", 'Two were seen near Tucson and the species Avas occasionally noted near Oracle.', '22.', 'Syrnium occidentale Xantus.', 'Spotted Owl.', 'On the opposite side of the Santa Clara valley at a point where there rises a rocky hill whose precipitous sides front the city of Tuscon I found several of these owls.', 'One pair was noticed perching on some large boulders and though they were in the full glare of the sun they did not appear at all disconcerted.', 'From the appearance of the surroundings it seemed that these boulders were their regular stands and this was rendered more likely as a nest from which a brood had evidently been raised was afterwards found in the recesses of a narrow ledge below where they had been sitting 23.', 'Megascops asio trichopsis Wagl..\\nMexican Screech Owl.', 'A young bird of this variety about twothirds grown was found in the chaparral near Tucson.', '24.', 'Bubo virginianus subarcticus Hoy.', 'Western Horned Owl.', 'Frequently heard but rarely seen.', 'They are rare in the lowlands.', '25.', 'Micropallas whitneyi Cooper.', 'Elf Owl.', 'Though said to be numerous none were met with 26.', 'Geococcyx californianus Less..\\nRoad Runner.', 'Found more abundantly near the oakbelt than in the vicinity of Tucson.', 'I observed them also at a considerable distance above Oracle.', '27.', 'Ceryle alcyon Linn..\\nKingfisher.', 'Very few noted around Tucson.', '28.', 'Dryobates villosus hyloscopus Cab..\\nCabanis Woodpecker.', 'Found sparingly at 8000 feet elevation among the pines.', '29.', \"Dryobates scalaris bairdi Scl..\\nBaird's Woodpecker.\", 'Common in the oakbelt and decreasing as you descend toward the plain.', '30.', 'Melanerpes formicivorus bairdi Ridgw.', 'Califomian Woodpecker.', 'Found breeding from the oakbelt upwards to 9000 feet elevation.', '31.', 'Melanerpes uropygialis Baird.', 'Gila Woodpecker.', 'Coextensive with the giant cacti.', '32.', 'Colaptes cafer Gmel..\\nRedshafted Flicker.', 'Only found in the pine woods and rare even there.', '33.', 'Colaptes chrysoides Malh..\\nGilded Flicker.', 'Tolerably numerous in the valley but none seen elsewhere.', '34.', 'Phalsenoptilus nuttalli Aud..\\nPoorwill.', 'Abundant and breeding in the oak belt.', '35.', 'Cbordeiles texensis Lawr.', 'Texan Nighthawk.', 'I found these birds abundant in the immediate vicinity of Tucson.', 'They frequented the niesquite in preference to more open tracts aud spent much of their time even during the midday hours in dashing about among the chaparral bushes for food invariably lighting when tired in the shade of a bush or cactus.', 'The song of this bird has a wouderful resemblance to the distant hollow rolling  whooooo  of Megascope.', 'It is uttered by both sexes and whether they be on the ground or on the wing the quality of these notes is so ventriloquial that I actually stumbled over three of the birds without taking notice of them in the search for a supposed owl that I imagined 1 heard in a distant tree.', 'On no occasion did they make any other sound which would show their intimate relationship to our C. virginianus.', '36.', 'Micropus melanoleucus Bairtl.', 'Whitethroated Swift.', 'A pair of these birds were certainly breeding in the cliffs where I found Syrnium occidentale though I could not because of the nature of the ground make thorough enough search to discover the whereabouts of their nest.', 'I saw frequent companies of these birds in various places along the Santa Clara Valley skimming the waters of Silver Lake and again sailing and twittering high in air reminding one strongly in both situations of the Chimney Swift.', 'The day of my ascent of Mount Lemon several of this species were seen coursing about the summit in company with Violetgreen Swallows.', '37.', 'Eugenes fulgens Swains..\\nRivoli Hummingbird.', 'Soon after my arrival in the Catalina pinebelt I noted a large hummer feeding among the yellow columbines of a little canon near the camp.', 'I did not see it again until the day of my departure from the mountains when I found it in the same place and upon shooting it found it to be an adult male of the above species.', 'This is probably the most northerly record for the Rivoli Hummingbird and considering the time of its capture it seems quite likely that it was breeding in the vicinity.', '38.', 'Trochilus alexandri Boure.', 'Muls.', 'Blackchinned Hummingbird.', 'Very abundant in the Catalinas.', 'One shot at Tucson and one at Oracle.', 'The love antics of this bird are highly entertaining.', 'Selecting an open space among the trees in the immediate vicinity of its nest the male starts from his perch among the willows uttering a shrill continuous trilling note that bears a strange proportion in its tone and quickness to the varying rapidity of flight.', 'Having reached the farthest limits of its chosen pleasure ground at an elevation corresponding to that of the nearest treetops it suddenly describes a headlong parabolic curve just grazing the ground and rising with a diminishing cadence of voice and wings to the treetops on the opposite side where it repeats the manoeuvre regaining its former position.', 'These evolutions are kept up in rapid succession sometimes as many as thirty flights being taken with scarcely a rest.', 'The geometric exactness of the curves which are traced by the bird is astonishing.', 'The nests of the Blackchinned Hummer are easily found but my experience agrees with that of Mr. Scott regarding the scarcity of nests of the other hummingbirds wdiich inhabit the Catalina Mountains.', '39.', 'Trochilus platycercus Swains.', 'Broadtailed Hummingbird.', 'A common lird associating with the former.', 'I found a pair building in an oak tree beside a dry watercourse but did not discover the nest until I had killed the female whose body contained a welldeveloped egg.', '40.', 'Tyrannus verticalis Say.', 'Arkansas Kingbird.', 'Found breeding from the plains to within a few hundred feet of the pines.', '41.', 'Tyrannus vociferans Swains.', \"Cassin's Kingbird.\", 'A few seen and two captured in the oaks near Oracle.', '42.', 'Myiarchus mexicanus magister Ridgw.', 'Arizona Crested Flycatcher.', 'This bird Avas not common.', 'It was not seen at an elevation of a thousand feet above Tucson.', '43.', 'Myiarchus cinerascens Lawr.', 'Ashthroated Flycatcher.', \"Found well distributed and plentiful all the way from Tucson to t'le lower regions of the pine belt.\", '41.', \"Sayornis saya Bonap..\\nSay's Pliojbe.\", 'As uniforndy distributed as the former thougli more common in the oak woods.', '45.', 'Sayornis nigricans Swains.', \"Black I'hcwbe.\", 'Seen only at Tucson and not common.', '46.', 'Contopus pertinax Cab.', \"Coues' Flycatcher.\", 'Only noticed in the pine belt where they were the most abundant Flycatcher.', '47.', 'Contopus richardsonii Swain..\\nWestern Wood Pewee.', 'Seen only in the ine but not common.', '48.', 'Empidonax difficilis Baird.', 'Western Flycatcher.', 'Two nests with young and several mated jiairs were observed in the Catalina pines.', '49.', 'Empidonax pusillus Swains..\\nLittle Flycatcher.', 'A pair were taken in a willow clump on the banks of the Santa Clara.', 'They evidently had a nest but it was not found.', '50.', 'Pyrocephalus rubineus mexicanus Scl.', 'Vermilion Flycatcher.', 'The greatest altitude at which I secured this Flycatcher was that of Oracle nearly 6000 feet They were increasingly abundant as you neared the jjlains.', '51.', 'Otocoris alpestris adusta Dwight.', 'Scorched Horned Lark.', 'Horned Larks were not abundant though I frequently observed small companies on the higher plains and mesas between Tucson and the oak belt.', 'I succeeded in securing but one a young bird fully fledged.', '52.', 'Cyanocitta stelleri macrolopha Baird.', 'Longcresttd Jay.', 'This species was confined strictly to the pine belt during my stay.', 'Its scolding is a peculiar combination of hiss snarl and sneer.', '53.', 'Aphelocoma woodhousei Baird.', \"Woodhouse's Jay.\", 'Only three of these wary birds were noted all within a mile of Oracle in the oak belt.', '54.', 'Aphelocoma sieberi arizonae Ridgw.', 'Arizona Jay.', 'The strict coincidence of the range of this abundant species with the limits of the oak belt is as remarkable as that of the Longcrested Jay with the pines.', '55.', 'Corvus corax sinuatus Wagl..\\nAmerican Raven Several Ravens visited the water tank and corral at Oracle daily and I occa.sionally saw them soaring among the foothills.', '56.', 'Corvus cryptoleucus Couch.', 'Whitenecked Raven.', 'The above remarks equally apply to this species with the difference that the former generally betook themselves to higher altitudes while the latter departed down the nearest canon toward the San Pedro.', '57.', 'Molothrus ater obscurus Gmel..', 'Dwarf Cowbird.', 'Numerous in the valley and occasional around Oracle.', '58.', 'Agelaius phoeniceus sonoriensis Ridgw.', \"Sonoran Redwing '\\nThese Blackbirds were fairly numerous along the watercourses of the .Santa Clara.\", '59.', 'Icterus parisorum Bonap.', \"Scott's Oriole.\", 'Frequently found leading their young among the oaks around Oracle and 1000 feet higher.', 'A pair were also seen in the mesquite bordering the oak belt.', '60.', 'Icterus cucullatus nelsoni Ridgw.', \"Arizona Hooded Oriole. '\", 'While the range of this species extends from Tucson nearly up to the lower edge of Catalina pines it was nowhere so abundant as in the oak belt.', '61.', \"Icterus bullocki Swains..\\nBullock's Oriole None seen in the Catalina region but abundant in the heavy chaparral of the Santa Clara Valley where they breed.\", 'By imitating the cry of a young bird and concealing myself in the bushes I never foiled to bring a croAvd of these usually timid birds within easy range.', '62.', 'Carpodacus mexicanus frontalis Say.', 'House Finch.', 'Very abundant to near the lower pine limit males singing and young in every stage of growth.', 'Some of their call notes and their actions and habits in general are very suggestive of Passer domesticvs.', '63.', 'Spinus psaltria arizonae Coues.', 'Arizona Goldfinch.', 'Several rather large flocks were seen about Tucson and a small one in the oak belt two specimens were secured.', '64.', 'Chondestes grammacus strigatus Swains..\\nWestern Lark Sparrow.', 'Found rather sariugly in the oak belt but nowhere else.', '65.', 'Junco cinereus palliatus Ridgw.', 'Arizona Juneo.', 'Breeding abundantly in the pine belt.', '66.', 'Amphispiza bilineata Cass..\\nBlackthroated Sparrow.', 'Ranjinjr coiiunonlv and breeding from Tucson to lUOO feet above Oracle.', '1 Mr. Scott makes no allusion to this Blackbird in his paper the only species of Agelahis ntientioned being A. giibernator Auk 18S7 p. 22.', \"Only one sptcimen an adult male is contained in Mr. Rhoads' collection so that it is difficult to decide to which race it should be referred.\", \"The measurements seem to be nearer to truert'V rather than to sonoriensis the wing being 480 in.\", 'W. S.\\n1892.', 'INTATURAL SCIENCES OF FHILADELPHIA.', '121 67.', 'Peucaea arizonae Kiclgw.', 'Arizona Sparrow This species frequented the thick bunches of beargrass just below the lower edge of the oak belt  they were breeding and were very shy.', 'Their habits are eminently terrestrial and at no time did they leave the ground save to perch on the lowly beargrass stems and utter a rather sweet song.', 'Four individuals were seen all within a hundred yards of each other.', 'Three were secured.', 'Nowhere else did I see or hear this species though a most careful search was made in the neighborhood.', \"It is not mentioned in Mr. Scott's paper.\", '68.', \"Peucaea ruficeps boucardi fid..\\nBoucard's Sparrow.\", 'Sparingly distributed throughout the oak belt and lowest portion of the pine belt.', '69.', 'Melospiza fasciata fallax Baird.', 'Desert Song Sparrow.', 'Found breeding only in the near vicinity of Avater in the Santa Clara Valley.', '70.', 'Pipilo maculatus megalonyx Baird.', 'Spurred Towhee.', 'Common in the pines and ranging up to the mountain tops.', '71.', 'Pipilo fuscus mesoleucus Baird Canon Towhee Abundant in the forestclad areas as far up as the oaks reach into the pines.', \"The resemblance of this bird's song to certain notes in the Cardinal's repertory is remarkable.\", '72.', \"Pipilo aberti Baird Abert's Towhee.\", 'This species very sparingly replaces the preceding in the neighborhood of Tucson.', '73.', 'Cardinalis cardinalis superbus Ridgw.', 'Arizona Cardinal.', 'One pair of these were secured at Tucson.', 'No other seen.', '74.', 'Pyrrhuloxia sinuata beckhami Ridgw.', 'Arizona Pyrrhuloxia.', 'A few were seen near Tucson in the chaparral of the Santa Clara Valley.', '75.', 'Habia melanocephala Swains..\\nBlackheaded Grosbeak Found breeding abundantly in the Catalina pines up to very high altitudes.', '76.', 'Guiraca caerulea eurhyncha Coues.', 'AVestem Blue Grosbeak.', 'In the valley of the Santa Clara about Tucson this Grosbeak was daily seen.', 'I shot a male and female which were carrying building material intca willow thicket on the river bank.', '9 77.', 'Passerina amceua Say.', 'Lazuli Finch.', 'One seen near the railroad station Tucson.', '78.', 'Piranga ludoviciana Wils..\\nLouisiana Tanager.', 'Fairly common in the Catalina pines.', '79.', 'Piranga hepatioa Swains.', 'Hepatic Tanager.', 'In the same locality as the former but less common.', 'Also found in the upper oak belt.', '80.', 'Piranga rubra cooperi Ridgw.', \"Cooper's Tanager.\", 'Ranges between the central portion of the oak belt and the Santa Clara Valley but is not common.', '81.', 'Progne subis hesperia Brewst.', \"Western Martin \\nAbundant in the lowland regions particularly about Silver Lake.'\", '82.', 'Chelidon erythrogaster Bodd..\\nBam Swallow.', 'Observed on the foothills but not in the valley.', '83.', 'Tachycineta tbalassina Swains..\\nViolet Green Sparrow.', 'Abundant on the Catalina mountain tops where it breeds in holes like its eastern congener T. bicolor.', '84.', 'Clivicola riparia Linn..\\nBank Swallow.', '83.', 'Stelgidopteryx serripennis Aud..\\nRoughwinged Swallow.', 'These two species were found associated along the higher banks of the Santa Clara in tlie Tucson suburbs the latter being the more numerous.', '86.', 'Phainopepla nitens Swains..\\nPhainopepla.', 'Uniformly distributed throughout all the region traversed up to 6000 feet.', '87.', 'Lanius ludovicianus excubitorides Swains..\\nWhiterumped Shrike.', 'Tolerably abundant from the lowlands upward as far as Oracle.', '88.', 'Vireo gilvus Vieill.', 'Warbling Vireo.', 'A pair of these birds were found nesting in a maple on Mt.', 'Lemon at 8000 feet.', '89.', 'Vireo solitarius plumbeus Coues.', 'Plumbeous Vireo.', 'In the pine belt of the Catalinas I found the Plumbeous Vireo tolerably abundant.', 'In habits it reminded me of V. solitarius  Only one specimen a young male was secured by Mr. Rhoads and it is impossible to determine its affinities with certainty though it seems to approach this race.', \"W. S. J' s ff especially in its fondness for the tops of the highest evergreens.\", 'The song is noticeably different from that of our eastern bird despite a resemblance.', '90 Vireo bellii pusillus Coues.', \"Least 'ireo.\", 'The Least Vireo was found sparingly in the chaparral of vacant lots around Tucson and in similar places in the Santa Clara Valley.', \"Independently of the taxonomic differences which may warrant Mr. Ridgway's claim to full specific rank for this Vireo there is nothing in its song or habits to support this position.\", '91.', 'Vireo vicinior Coues.', 'Gray Vireo.', 'Frequent in the oakwoods and nowhere else 92.', 'Helminthophila luciae Cooper.', \"Lucy's AVarbler.\", 'Abundant from Tucson upward to a few hundred feet above Oracle.', '93.', 'Helminthophila virgin\\n36 Baird.', 'Virginia Warbler.', 'Little companies of this species frequented the deciduous trees in the lower edge of the Pinebelt reminding me in their habits of the Bush Tits and Titmice with which they associate.', '94.', 'Dendroica olivacea Giraud..\\nOlive Warbler.', 'I saw one of these birds in the mountains but failed to secure it.', 'It was in full view and its peculiar habit of perching on the large pines branches near the trunk its deliberate movements and characteristic markings examined with a glass at short range convince me of the correctness of my identification.', '95.', 'Dendroica aestiva sonorana Brewst.', 'Sonora Yellow AVarbler.', \"Plentiful around Tucson in the valley but seen nowhere else.'\", '96.', \"Dendroica auduboni Towns..\\nAudubon's Warbler.\", 'Not rare in the Catalina among the pines.', '97.', 'Dendroica graciae Coues.', \"Grace's Warbler.\", 'Abundant in the pines.', '98.', 'Dendroica nigrescens Towns.', 'Blackthroated Gray Warbler.', 'Abundant in the pines 1 A young bird of this race in the collection is silky white beneath with the lores and sides of the throat light yellow  above gray the lesser wing coverts and rump yellowolive greater wing coverts edged with buff wings and tail as in adults.', 'The specimen was evidently moulting as yellow pin feathers are to be seen here and there on the breast.', 'W. S. 99.', 'Geothlypis trichas occidentalis Brewst.', 'Western Yellowthroat.', 'Sparingly found in the immediate vicinity of running water around Tucson.', '100.', 'Icteria virens longicauda Lawr.', 'Longtailed Chat.', 'Abundant in the valley.', '101.', 'Setophaga picta Swains..', 'Painted Redstart.', 'This exquisite species was common in the Catalina jiine woods and the upper edge of the oak belt.', '102.', 'Cardellina rubrifrons Giraud.', 'Redfaced Warbler.', 'The above remarks apply equally to this species though its range does not extend so far up as that of the Redstart.', '103.', 'Mimus polyglottos Linn.', 'Mockingbird.', 'AVithout exception the most abundant bird in the country ranging up to 5000 or 6000 feet.', '104.', 'Harporhyncus curvirostris palmeri Ridgw.', \"Palmer's Thrasher.\", \"To the best of my recollection Palmer's Thrasher was the commonest species of the genus ranging somewhat lower than the following.\", '105.', 'Harporhyncus bendirei Coues.', \"Bendire's Thrasher.\", 'Found abundantly from the plains up to 4000 feet.', '106.', 'Harporhyncus crissalis Henry.', 'Crissal Thrasher.', 'Equal in abundance and with a similar range to H. hencUrei.', '107.', 'Campylorhynchus brunneicapillus Lafr..\\nCactus Wren.', 'Abounding in all dry situations between Tucson and Oracle.', '108.', 'Salpinctes obsoletus Say.', 'Rock Wren.', 'Tolerably common in rocky situations within the oak belt.', 'A pair observed on top of a spur of Mt.', 'Lemon 8000 feet high.', '109.', 'Catherpes mexicanus punctulatus Ridgw.', 'Dotted Cafion AVren.', 'The first of these enchanting songsters was heard among the rocks of a hill near Tucson around which flowed the waters of the Santa Clara.', 'They were rare in this locality.', 'I next discovered them in the bouldercovered foothills about Oracle and found them breeding in the Santa Catalinas one pair having located in a pile of rocks several hundred feet above our camp.', '110.', 'Thryotliorus bewickii bairdi Salv.', \"Goilm..\\nBaird's AVren.\", 'Throughout the oak belt and for some distance in the pines this species was very common.', 'I did not find any at a lower elevation.', '111.', 'Troglodytes aedonaztecus Baird.', 'Western House Wren.', \"Very common in the pine clad areas of the Catalinas where its ranoe overlans that of Baird's Wren.\", '112.', 'Certhia familiaris mexicana Glog..\\nMexican Creeper.', 'A few were noted in the higher pines on Mt.', 'Lemon 7000 to 8000 feet.', '113.', 'Sitta carolinensis aeuleata Cass..\\nSlenderbilled Nuthatch.', 'Very common throughout the pines to the highest mountain tops.', '114.', 'Sitta pygmaea Vig.', 'Pygmy Nuthatch.', 'Coextensive with preceding species and even more abundant.', '115.', 'Parus wollweheri Bonap..\\nBridled Titmouse.', 'Abundant in the oakbelt and lower edge of pine belt.', '116.', 'Parus gambeli Ridgw.', 'Mountain Chickadee.', 'Found on the Catalina mountains in flocks at and above 7000 feet  always in the tops of the lofty firs.', '117.', 'Psaltriparus plumbeus Baird.', 'Leadcolored BushTit.', \"Found every whei'e within the limits of the oak belt.\", '118.', 'Auriparus flaviceps Sund..\\nVerdin.', 'While I occasionally saw the Verdin in the fringe of the oak growth it became increasingly numerous as I neared Tucson where it was abundant.', '119 Regulus satrapa olivaceus Baird.', 'Western Goldencrowned Kinglet I found a male of this species among the fir tops near the summit of Mt.', 'Lemon.', 'It continued to utter a sweet song while I watched it through my glass.', '120.', 'Polioptila caerulea obscura Ridgw.', 'Western Gnateateher.', 'Breeds in the lower edge of the pines not common.', '121.', 'Polioptila plumbea Baird.', 'Plumbeous Gnateateher.', 'Common everywhere among the foothills and higher uplands but rare in the valleys.', 'In the lower pine belt it is replaced by the other species.', '122.', 'Turdus aonalaschkae auduboni Baird.', \"Audubon's Hermit Thrush.\", 'These thrushes sang continuously during my ascent of Mount Lemon answering each other from the opposing canons with the same measured cadences and pauses that characterize the song of 1 This species does rot seem to have been previously recorded from this disirict V.\\nS. pallasii.', 'This was on the first day of July and from what I observed they were abundant and the breeding season was at its height.', '123.', 'Merula migratoria propinqua Ridgw.', 'Western Robin.', 'A small number found breeding among the Catalina pines.', '124.', 'Sialia mexicana Swains.', 'AVestern Bluebird.', 'Abundant in the pine belt at all elevations.', 'The following were accidentally omitted from their proper place in the list.', 'Zenaidura macroura Linn..\\nMourning Dove.', 'Oracle and Tucson.', 'Melopelia leucoptera Linn..\\nWhitewinged Dove.', 'Tucson.']\n"
     ]
    }
   ],
   "source": [
    "print(sentences)"
   ]
  },
  {
   "cell_type": "code",
   "execution_count": 11,
   "id": "41ac20ce-0fd2-47c5-a324-27ade39df529",
   "metadata": {},
   "outputs": [],
   "source": [
    "def load_json_data(file):\n",
    "    with open(file, \"r\", encoding=\"utf-8\") as f:\n",
    "        data = json.load(f)\n",
    "    return (data)"
   ]
  },
  {
   "cell_type": "code",
   "execution_count": 12,
   "id": "508e3120-6500-4546-867a-bc21ddff4145",
   "metadata": {},
   "outputs": [],
   "source": [
    "def load_text_data(file):\n",
    "    with open(file, 'r') as f:\n",
    "        text = f.read()\n",
    "    return (text)"
   ]
  },
  {
   "cell_type": "code",
   "execution_count": 13,
   "id": "9fe0abd7-1a0e-45b1-98fa-a6cb0999ed42",
   "metadata": {},
   "outputs": [],
   "source": [
    "def create_tagged_sents(textfile, jsonfile):\n",
    "    taxalist = load_json_data(jsonfile) \n",
    "    text = load_text_data(textfile)\n",
    "    sentences_with_taxa = []\n",
    "    for sen in sent_tokenize(text):\n",
    "        l = word_tokenize(sen)\n",
    "        if len(set(l).intersection(taxalist))>0:\n",
    "            sentences_with_taxa.append(sen)\n",
    "    return (sentences_with_taxa)"
   ]
  },
  {
   "cell_type": "code",
   "execution_count": 14,
   "id": "90ec4484-a56e-433e-a3eb-379ba49697b6",
   "metadata": {},
   "outputs": [],
   "source": [
    "sent_with_taxa = create_tagged_sents(\"/Users/thalassa/Rcode/blog/data/animals-clean/44pg098-clean-taxa.txt\", \"/Users/thalassa/Rcode/blog/data/ansp-taxa-clean.json\")"
   ]
  },
  {
   "cell_type": "code",
   "execution_count": 15,
   "id": "55ca9252-4e3e-4bd8-b72a-0ccfd939893c",
   "metadata": {},
   "outputs": [
    {
     "name": "stdout",
     "output_type": "stream",
     "text": [
      "[\"Mr. Beckham's personal observations of Texan birds terminated in March and so far as I can discover very few if any of our observers have recorded data relating to the early summer birds of the Corpus Christi region Dresser's summer notes relating chiefly to the vicinity of San Antonio\\nFurther description of the region included in the following notes would be superfluous after all that the aforementioned authors have written on the subject.\", 'Larus atricilla Linn.', 'Larus franklinii Sw.  Rich.', 'Phalacrocorax mexicanus Brandt.', 'Anas fulvigula maculosa Senn..\\nMottled Duck.', 'According to Mr. Priour the Spoonbill attains its maximum plumage development some time in January but he was unable to state whether this was due to a second moult in December or whether there is merely a wearing away of the tips of the feathers as in Agelaius and other birds.', 'Botaurus exilisGmel..', 'Ardea herodias Linn.', 'Ardea egretta GmeL American Egret.', 'Ardea tricolor ruficoUis Gosse.', 'Ardea virescens Linn Green Heron.', 'Nycticorax nycticorax nsevius Bodd..\\nNight Heron.', 'Rallus elegans Aud.', 'Tringa maculata Vieill.', 'Tringa fuscicollis Vieill.', 'Ereunetes pusillus Linn.', 'Numenius longirostris Wils.', 'Charadrius squatarola Linn..\\nBlackbellied Plover.', 'Aegialitis vocifera Linn..\\nKildeer.', 'Aegialitis semipalmata Bonap.', \"3L Aegialitis wilsonia Ord..\\nWilson's Plovei Breeding abundantly along the bayside.\", 'Arenaria interpres Linn..\\nTurnstone.', 'My remarks on Charadrius squatarola apply with equal force to the Turnstone.', 'Colinus virginianus texanus Lawr..\\nTexan Bobwhite.', 'Meleagris gallopavo Linn.', 'Zenaidura macroura Linn..\\nMourning Dove Nowhere in the United States have I found this bird more abundant than in Texas.', 'Cathartes aura Linn..\\nTurkey Vulture.', 'Buteo lineatus Gmel..\\nRedshouldered Hawk.', 'Falco sparverius Linn.', \"Polyborus cheriway Jacq..\\nAudubon's Caracara.\", 'Pandion haliaetus carolinensis Gmel..\\nAmerican Osprey.', 'Syrnium nebulosum Forst..', 'Megascops asio mccallii Cass.', 'Geococcyx californianus Less..\\nRoad Runner.', 'Ceryle alcyon Linn..\\nKingfisher.', \"Dryobates scalaris bairdi Scl..\\nBaird's Woodpecker.\", 'Melanerpes aurifrons Wagl..\\nGoldenfronted Woodpecker.', \"Antrostomus carolinensis Gmel..\\nChuck Will's Widow.\", 'Nyctidromus albicollis merrilli Senn..\\nParauque.', 'Chordeiles virginianus henryi Cass..\\nWestern Nighthawk.', 'C. texensis finds its southwestern breediug limit about midway between Corpus Christi and San Antonio during the migrations however texensis has been noticed by Priour a few miles west of Corpus Christi.', 'Chaetura pelagica Linn..\\nChimney Swift.', 'Milvulus forficatus GmeL.', 'Tyrannus tyrannus Linn..\\nKingbird.', 'Myiarchus mexicanus Kaup..\\nMexican Crested Flycatcher.', 'Contopus borealis Swains..\\nOlivesided Flycatcher.', 'Contopus vi.rens Linn..\\nWood Pewee.', 'Pyrocephalus rubineus mexicanus Scl..\\nVermilion Flycatcher.', 'Otocoris alpestris giraudi Ilensh.', 'Agelaius phoeniceus Linn..\\nRedwing Blackbird.', 'Sturnella magna Linn.', 'I was unfor1 As Mr. Chapman has remarked tiie Texas and Arizona specimens of Pyrocephalus are smaller than those from farther south and have smaller bills.', 'Quiscalus quiscula aeneus Ridgw..\\nBronzed Crackle.', 'Quiscalus macrourus Swains.', 'Ammodramus maritimus sennetti Allen.', 'Chondestes grammacus Say.', 'Cardinalis cardinalis canicaudus Chapm.', 'Piranga rubra Linn..\\nSummer Tanager.', 'Progne subis Liun..\\nPurple Martin Common in the vicinity of towns.', 'Petrochelidon lunifrons Say.', 'Chelidon erythrogaster Bodd..\\nBam Swallow.', 'Clivicola riparia Linn..\\nBank Swallow.', 'Stelgidopteryx serripennis Aud..\\nRoughwinged Swallow.', 'Lanius ludovicianus excubitorides Swains..\\nWhiterumped Shrike.', 'Dendroica aestiva Gmel..\\nYellow Warbler.', 'Geothlypis trichas Linn..\\nMaryland Yellowthroat.', 'Icteria virens Linn..\\nYellowbreasted Chat.', 'Mimus polyglottos Linn..\\nMockingbird.', 'Harporhynchus longirostris sennetti Ridgw.', 'Thryothorus ludovicianus Lath..\\nCarolina Wren.', 'Thryothorus bewickii bairdi Salv.', 'Parus atricristatus Cass.', 'Polioptila caerulea Linn..\\nBluegrajGnatcatcher.', 'Columbigallina passerina pallescens Baird.', 'Strix pratincola Bonap.', 'Speotyto cunicularia bypogaea Bonap..', 'Ceryle cabanisi Tschudi..\\nTexan Kingfisher.', 'Ammodramus maritimus peninsulas \\nAllen.', 'Anas strepera Linn.', 'Ardea herodias Linn.', 'Ardea virescens Linn.', 'Gallinula galeata Licht..\\nFlorida Gallinule.', 'Fulica americana Gmel.', 'Callipepla squamata Vig..', \"Callipepla gambeli Nutt..\\nGambel's Partridge.\", 'The habits of the Massena Partridges are very dissimilar to those of the genus Callipepla reminding one strongly of our eastern Bobwhite in their aptness for quick concealment and sudden flight.', 'Meleagris gallopavo mexicana iTould.', 'Columbigallina passerina pallescens Baird.', 'Pseudogryphus californianus Shaw.', 'Cathartes aura Linn..\\nTurkey Vulture.', 'Buteo borealis calurus Cass..\\nWestern Redtail.', 'Buteo abbreviatus Caban.', 'Buteo swainsoni Bonap.', '20Falco Sparverius Linn.', \"Polyborus cheriway Jacq..\\nAudubon's Caracara.\", 'Syrnium occidentale Xantus.', 'Megascops asio trichopsis Wagl..\\nMexican Screech Owl.', 'Micropallas whitneyi Cooper.', 'Geococcyx californianus Less..\\nRoad Runner.', 'Ceryle alcyon Linn..\\nKingfisher.', 'Dryobates villosus hyloscopus Cab..\\nCabanis Woodpecker.', \"Dryobates scalaris bairdi Scl..\\nBaird's Woodpecker.\", 'Melanerpes formicivorus bairdi Ridgw.', 'Melanerpes uropygialis Baird.', 'Colaptes cafer Gmel..\\nRedshafted Flicker.', 'Colaptes chrysoides Malh..\\nGilded Flicker.', 'Micropus melanoleucus Bairtl.', 'A pair of these birds were certainly breeding in the cliffs where I found Syrnium occidentale though I could not because of the nature of the ground make thorough enough search to discover the whereabouts of their nest.', 'Eugenes fulgens Swains..\\nRivoli Hummingbird.', 'Tyrannus verticalis Say.', 'Tyrannus vociferans Swains.', \"Sayornis saya Bonap..\\nSay's Pliojbe.\", 'Sayornis nigricans Swains.', 'Contopus pertinax Cab.', 'Contopus richardsonii Swain..\\nWestern Wood Pewee.', 'Empidonax difficilis Baird.', 'Empidonax pusillus Swains..\\nLittle Flycatcher.', 'Pyrocephalus rubineus mexicanus Scl.', 'Otocoris alpestris adusta Dwight.', 'Cyanocitta stelleri macrolopha Baird.', 'Aphelocoma woodhousei Baird.', 'Aphelocoma sieberi arizonae Ridgw.', 'Molothrus ater obscurus Gmel..', 'Agelaius phoeniceus sonoriensis Ridgw.', 'Spinus psaltria arizonae Coues.', 'Chondestes grammacus strigatus Swains..\\nWestern Lark Sparrow.', 'Amphispiza bilineata Cass..\\nBlackthroated Sparrow.', 'Cardinalis cardinalis superbus Ridgw.', 'Habia melanocephala Swains..\\nBlackheaded Grosbeak Found breeding abundantly in the Catalina pines up to very high altitudes.', 'Guiraca caerulea eurhyncha Coues.', 'Passerina amceua Say.', 'Piranga ludoviciana Wils..\\nLouisiana Tanager.', 'Piranga hepatioa Swains.', 'Piranga rubra cooperi Ridgw.', 'Progne subis hesperia Brewst.', 'Chelidon erythrogaster Bodd..\\nBam Swallow.', 'Tachycineta tbalassina Swains..\\nViolet Green Sparrow.', 'Clivicola riparia Linn..\\nBank Swallow.', 'Stelgidopteryx serripennis Aud..\\nRoughwinged Swallow.', 'Phainopepla nitens Swains..\\nPhainopepla.', 'Lanius ludovicianus excubitorides Swains..\\nWhiterumped Shrike.', 'Helminthophila luciae Cooper.', 'Helminthophila virgin\\n36 Baird.', 'Dendroica olivacea Giraud..\\nOlive Warbler.', 'Dendroica aestiva sonorana Brewst.', \"Dendroica auduboni Towns..\\nAudubon's Warbler.\", 'Dendroica graciae Coues.', 'Dendroica nigrescens Towns.', 'Geothlypis trichas occidentalis Brewst.', 'Icteria virens longicauda Lawr.', 'Mimus polyglottos Linn.', 'Salpinctes obsoletus Say.', 'Troglodytes aedonaztecus Baird.', 'Certhia familiaris mexicana Glog..\\nMexican Creeper.', 'Sitta carolinensis aeuleata Cass..\\nSlenderbilled Nuthatch.', 'Sitta pygmaea Vig.', 'Parus wollweheri Bonap..\\nBridled Titmouse.', 'Parus gambeli Ridgw.', 'Psaltriparus plumbeus Baird.', 'Auriparus flaviceps Sund..\\nVerdin.', 'Polioptila caerulea obscura Ridgw.', 'Polioptila plumbea Baird.', 'Turdus aonalaschkae auduboni Baird.', 'Merula migratoria propinqua Ridgw.', 'Sialia mexicana Swains.', 'Zenaidura macroura Linn..\\nMourning Dove.', 'Melopelia leucoptera Linn..\\nWhitewinged Dove.']\n"
     ]
    }
   ],
   "source": [
    "print(sent_with_taxa)"
   ]
  },
  {
   "cell_type": "code",
   "execution_count": 18,
   "id": "272bca61-c483-422a-8a1b-06ff3acc7e1a",
   "metadata": {},
   "outputs": [],
   "source": [
    "with open('44pg098_sents_with_taxa.txt', 'w') as f:\n",
    "    for item in sent_with_taxa:\n",
    "        f.write(\"%s\\n\" % item)"
   ]
  },
  {
   "cell_type": "code",
   "execution_count": 19,
   "id": "3f41c3d9-7df9-4fb0-9160-af0e37eac6de",
   "metadata": {},
   "outputs": [],
   "source": [
    "with open('44pg098_sents.txt', 'w') as f:\n",
    "    for item in sentences:\n",
    "        f.write(\"%s\\n\" % item)"
   ]
  },
  {
   "cell_type": "markdown",
   "id": "6cfdffa8-e852-42ab-9d0f-2086f5e19adf",
   "metadata": {},
   "source": [
    "## Use NLTK to tag parts of speech. End goal is to keep only sentences with a verb (wheat from chaff, etc.)"
   ]
  },
  {
   "cell_type": "code",
   "execution_count": 20,
   "id": "a68ba483-a7c2-49e2-aabf-cee7bff4ebce",
   "metadata": {},
   "outputs": [],
   "source": [
    "with open('/Users/thalassa/Rcode/blog/data/animals-clean/44pg098_sents.txt', 'r') as f:\n",
    "    text = f.read()"
   ]
  },
  {
   "cell_type": "code",
   "execution_count": 25,
   "id": "4c55194f-b34d-469a-aefe-febeaae5f89e",
   "metadata": {},
   "outputs": [],
   "source": [
    "words_text = nltk.word_tokenize(text)\n",
    "text_sentence_tokens = sent_tokenize(text)"
   ]
  },
  {
   "cell_type": "code",
   "execution_count": 23,
   "id": "11c0afa7-01e7-4e97-bc60-50028e5f89c1",
   "metadata": {},
   "outputs": [
    {
     "name": "stdout",
     "output_type": "stream",
     "text": [
      "['THE BIRDS OF SOUTHEASTERN TEXAS AND SOUTHERN ARIZONA OBSERVED DURING MAY JUNE AND JULY 1891.', 'BY SAMUEL N. RHOADS.', 'With the idea of investigating the avifauna of the southern border of the United States and collectiug a series of the birds of Florida Texas and Arizona I left Philadelphia March 26th 1891 arriving at Jacksonville Florida on the fifth of the following month.', 'A sojourn of five weeks was made in the southwestern part of the state and considerable collections obtained.', 'Few facts additional to what has been already written on the bird life of this region were ascertained and it is not my intention to treat in detail of this part of the trip.', \"I arrived at Corpus Christi Texas May 17th and here a three weeks' stay was made.\", 'I then journeyed westward to Tucson Arizona arriving on the tenth of June and collecting birds in the immediate vicinity until the nineteenth.', 'That morning I took stage for Oracle a posthamlet situated in the oak belt forty miles north ward among the foothills of the Catalina Mountains.', 'Collecting Avas carried on in that vicinity until July 2nd Avhen the mountains were ascended and I took up my abode for a week in a lumber camp among the pines of Mt.', 'Lemon at an elevation of between 7000 and 8000 ft. and about 2000 feet below the summit of that mountain.', 'The birds of southern Texas especially those in the vicinity of Corpus Christi have received no small amount of attention from naturalists.', 'Mr. Beckham enumerates eight publications bearing directly on this subject prior to his own which appeared in 1887.', 'Within a few months Mr. Chapman has published a paper giving the results of his observations made on exactly the same ground which I covered three weeks later.', 'In fact I was conducted by Mr. Priour who acted as my guide to the same collecting grounds in the immediate vicinity of Corpus Christi and along the Nueces River and 1 Mr. Rhoads has generously presented his entire collection numbering about one thou.sand skins to the Academy of Natural Sciences of Philadelphia.', 'The Texas series numbers 23\\nspecimens and the Arizona collection 398.', \"Owing to Mr. Rhoads' absence from Philadelphia when preparing this paper he was unable to make a critical examination of the specimens and at his request I have added utiles on such as exhibited any peculiarities  these annotations are followed by my initials.\", 'Witmer Stone.', '2 Proc.', 'U. S. Nat.', 'Mus.']\n"
     ]
    }
   ],
   "source": [
    "print (text_sentence_tokens[0:20])"
   ]
  },
  {
   "cell_type": "code",
   "execution_count": 26,
   "id": "9a5df1e7-ee66-4dee-91fb-55b6d1502273",
   "metadata": {},
   "outputs": [
    {
     "name": "stdout",
     "output_type": "stream",
     "text": [
      "['THE', 'BIRDS', 'OF', 'SOUTHEASTERN', 'TEXAS', 'AND', 'SOUTHERN', 'ARIZONA', 'OBSERVED', 'DURING']\n"
     ]
    }
   ],
   "source": [
    "print(words_text[0:10])"
   ]
  },
  {
   "cell_type": "code",
   "execution_count": 27,
   "id": "2dfe283f-0b1e-45b0-8573-103af374ce23",
   "metadata": {},
   "outputs": [],
   "source": [
    "tagged_text = nltk.pos_tag(words_text)"
   ]
  },
  {
   "cell_type": "code",
   "execution_count": 28,
   "id": "385cb63f-7cca-48aa-8923-19ca64c66182",
   "metadata": {},
   "outputs": [
    {
     "name": "stdout",
     "output_type": "stream",
     "text": [
      "[('THE', 'DT'), ('BIRDS', 'NNP'), ('OF', 'NNP'), ('SOUTHEASTERN', 'NNP'), ('TEXAS', 'NNP'), ('AND', 'NNP'), ('SOUTHERN', 'NNP'), ('ARIZONA', 'NNP'), ('OBSERVED', 'NNP'), ('DURING', 'NNP'), ('MAY', 'NNP'), ('JUNE', 'NNP'), ('AND', 'NNP'), ('JULY', 'NNP'), ('1891', 'CD'), ('.', '.'), ('BY', 'NNP'), ('SAMUEL', 'NNP'), ('N.', 'NNP'), ('RHOADS', 'NNP')]\n"
     ]
    }
   ],
   "source": [
    "print(tagged_text[0:20])"
   ]
  },
  {
   "cell_type": "code",
   "execution_count": 29,
   "id": "265d835e-726b-44b2-b632-777337daa62e",
   "metadata": {},
   "outputs": [],
   "source": [
    "text_word_tokens = []\n",
    "for sentence_token in text_sentence_tokens:\n",
    "    text_word_tokens.append(word_tokenize(sentence_token))"
   ]
  },
  {
   "cell_type": "code",
   "execution_count": 30,
   "id": "a916f36c-0cde-4077-9dbf-ca346598802d",
   "metadata": {},
   "outputs": [
    {
     "name": "stdout",
     "output_type": "stream",
     "text": [
      "[['THE', 'BIRDS', 'OF', 'SOUTHEASTERN', 'TEXAS', 'AND', 'SOUTHERN', 'ARIZONA', 'OBSERVED', 'DURING', 'MAY', 'JUNE', 'AND', 'JULY', '1891', '.'], ['BY', 'SAMUEL', 'N.', 'RHOADS', '.'], ['With', 'the', 'idea', 'of', 'investigating', 'the', 'avifauna', 'of', 'the', 'southern', 'border', 'of', 'the', 'United', 'States', 'and', 'collectiug', 'a', 'series', 'of', 'the', 'birds', 'of', 'Florida', 'Texas', 'and', 'Arizona', 'I', 'left', 'Philadelphia', 'March', '26th', '1891', 'arriving', 'at', 'Jacksonville', 'Florida', 'on', 'the', 'fifth', 'of', 'the', 'following', 'month', '.'], ['A', 'sojourn', 'of', 'five', 'weeks', 'was', 'made', 'in', 'the', 'southwestern', 'part', 'of', 'the', 'state', 'and', 'considerable', 'collections', 'obtained', '.'], ['Few', 'facts', 'additional', 'to', 'what', 'has', 'been', 'already', 'written', 'on', 'the', 'bird', 'life', 'of', 'this', 'region', 'were', 'ascertained', 'and', 'it', 'is', 'not', 'my', 'intention', 'to', 'treat', 'in', 'detail', 'of', 'this', 'part', 'of', 'the', 'trip', '.'], ['I', 'arrived', 'at', 'Corpus', 'Christi', 'Texas', 'May', '17th', 'and', 'here', 'a', 'three', 'weeks', \"'\", 'stay', 'was', 'made', '.'], ['I', 'then', 'journeyed', 'westward', 'to', 'Tucson', 'Arizona', 'arriving', 'on', 'the', 'tenth', 'of', 'June', 'and', 'collecting', 'birds', 'in', 'the', 'immediate', 'vicinity', 'until', 'the', 'nineteenth', '.'], ['That', 'morning', 'I', 'took', 'stage', 'for', 'Oracle', 'a', 'posthamlet', 'situated', 'in', 'the', 'oak', 'belt', 'forty', 'miles', 'north', 'ward', 'among', 'the', 'foothills', 'of', 'the', 'Catalina', 'Mountains', '.'], ['Collecting', 'Avas', 'carried', 'on', 'in', 'that', 'vicinity', 'until', 'July', '2nd', 'Avhen', 'the', 'mountains', 'were', 'ascended', 'and', 'I', 'took', 'up', 'my', 'abode', 'for', 'a', 'week', 'in', 'a', 'lumber', 'camp', 'among', 'the', 'pines', 'of', 'Mt', '.'], ['Lemon', 'at', 'an', 'elevation', 'of', 'between', '7000', 'and', '8000', 'ft.', 'and', 'about', '2000', 'feet', 'below', 'the', 'summit', 'of', 'that', 'mountain', '.']]\n"
     ]
    }
   ],
   "source": [
    "print(text_word_tokens[0:10])"
   ]
  },
  {
   "cell_type": "code",
   "execution_count": 31,
   "id": "7b5cd66d-d95b-4b32-997d-f44a4d3f24c9",
   "metadata": {},
   "outputs": [],
   "source": [
    "text_tagged = pos_tag_sents(text_word_tokens)"
   ]
  },
  {
   "cell_type": "code",
   "execution_count": 32,
   "id": "8a850b15-692b-464b-be36-64cfd4cdf167",
   "metadata": {},
   "outputs": [
    {
     "name": "stdout",
     "output_type": "stream",
     "text": [
      "[[('THE', 'DT'), ('BIRDS', 'NNP'), ('OF', 'NNP'), ('SOUTHEASTERN', 'NNP'), ('TEXAS', 'NNP'), ('AND', 'NNP'), ('SOUTHERN', 'NNP'), ('ARIZONA', 'NNP'), ('OBSERVED', 'NNP'), ('DURING', 'NNP'), ('MAY', 'NNP'), ('JUNE', 'NNP'), ('AND', 'NNP'), ('JULY', 'NNP'), ('1891', 'CD'), ('.', '.')], [('BY', 'NNP'), ('SAMUEL', 'NNP'), ('N.', 'NNP'), ('RHOADS', 'NNP'), ('.', '.')], [('With', 'IN'), ('the', 'DT'), ('idea', 'NN'), ('of', 'IN'), ('investigating', 'VBG'), ('the', 'DT'), ('avifauna', 'NN'), ('of', 'IN'), ('the', 'DT'), ('southern', 'JJ'), ('border', 'NN'), ('of', 'IN'), ('the', 'DT'), ('United', 'NNP'), ('States', 'NNPS'), ('and', 'CC'), ('collectiug', 'VB'), ('a', 'DT'), ('series', 'NN'), ('of', 'IN'), ('the', 'DT'), ('birds', 'NNS'), ('of', 'IN'), ('Florida', 'NNP'), ('Texas', 'NNP'), ('and', 'CC'), ('Arizona', 'NNP'), ('I', 'PRP'), ('left', 'VBD'), ('Philadelphia', 'NNP'), ('March', 'NNP'), ('26th', 'CD'), ('1891', 'CD'), ('arriving', 'NN'), ('at', 'IN'), ('Jacksonville', 'NNP'), ('Florida', 'NNP'), ('on', 'IN'), ('the', 'DT'), ('fifth', 'NN'), ('of', 'IN'), ('the', 'DT'), ('following', 'VBG'), ('month', 'NN'), ('.', '.')], [('A', 'DT'), ('sojourn', 'NN'), ('of', 'IN'), ('five', 'CD'), ('weeks', 'NNS'), ('was', 'VBD'), ('made', 'VBN'), ('in', 'IN'), ('the', 'DT'), ('southwestern', 'JJ'), ('part', 'NN'), ('of', 'IN'), ('the', 'DT'), ('state', 'NN'), ('and', 'CC'), ('considerable', 'JJ'), ('collections', 'NNS'), ('obtained', 'VBN'), ('.', '.')], [('Few', 'JJ'), ('facts', 'NNS'), ('additional', 'JJ'), ('to', 'TO'), ('what', 'WP'), ('has', 'VBZ'), ('been', 'VBN'), ('already', 'RB'), ('written', 'VBN'), ('on', 'IN'), ('the', 'DT'), ('bird', 'JJ'), ('life', 'NN'), ('of', 'IN'), ('this', 'DT'), ('region', 'NN'), ('were', 'VBD'), ('ascertained', 'VBN'), ('and', 'CC'), ('it', 'PRP'), ('is', 'VBZ'), ('not', 'RB'), ('my', 'PRP$'), ('intention', 'NN'), ('to', 'TO'), ('treat', 'VB'), ('in', 'IN'), ('detail', 'NN'), ('of', 'IN'), ('this', 'DT'), ('part', 'NN'), ('of', 'IN'), ('the', 'DT'), ('trip', 'NN'), ('.', '.')], [('I', 'PRP'), ('arrived', 'VBD'), ('at', 'IN'), ('Corpus', 'NNP'), ('Christi', 'NNP'), ('Texas', 'NNP'), ('May', 'NNP'), ('17th', 'CD'), ('and', 'CC'), ('here', 'RB'), ('a', 'DT'), ('three', 'CD'), ('weeks', 'NNS'), (\"'\", 'POS'), ('stay', 'NN'), ('was', 'VBD'), ('made', 'VBN'), ('.', '.')], [('I', 'PRP'), ('then', 'RB'), ('journeyed', 'VBD'), ('westward', 'NN'), ('to', 'TO'), ('Tucson', 'NNP'), ('Arizona', 'NNP'), ('arriving', 'VBG'), ('on', 'IN'), ('the', 'DT'), ('tenth', 'NN'), ('of', 'IN'), ('June', 'NNP'), ('and', 'CC'), ('collecting', 'VBG'), ('birds', 'NNS'), ('in', 'IN'), ('the', 'DT'), ('immediate', 'JJ'), ('vicinity', 'NN'), ('until', 'IN'), ('the', 'DT'), ('nineteenth', 'NN'), ('.', '.')], [('That', 'IN'), ('morning', 'NN'), ('I', 'PRP'), ('took', 'VBD'), ('stage', 'NN'), ('for', 'IN'), ('Oracle', 'NNP'), ('a', 'DT'), ('posthamlet', 'NN'), ('situated', 'VBN'), ('in', 'IN'), ('the', 'DT'), ('oak', 'NN'), ('belt', 'VBD'), ('forty', 'JJ'), ('miles', 'NNS'), ('north', 'RB'), ('ward', 'VBP'), ('among', 'IN'), ('the', 'DT'), ('foothills', 'NNS'), ('of', 'IN'), ('the', 'DT'), ('Catalina', 'NNP'), ('Mountains', 'NNP'), ('.', '.')], [('Collecting', 'VBG'), ('Avas', 'NNP'), ('carried', 'VBD'), ('on', 'IN'), ('in', 'IN'), ('that', 'DT'), ('vicinity', 'NN'), ('until', 'IN'), ('July', 'NNP'), ('2nd', 'CD'), ('Avhen', 'NNP'), ('the', 'DT'), ('mountains', 'NNS'), ('were', 'VBD'), ('ascended', 'VBN'), ('and', 'CC'), ('I', 'PRP'), ('took', 'VBD'), ('up', 'RP'), ('my', 'PRP$'), ('abode', 'NN'), ('for', 'IN'), ('a', 'DT'), ('week', 'NN'), ('in', 'IN'), ('a', 'DT'), ('lumber', 'JJ'), ('camp', 'NN'), ('among', 'IN'), ('the', 'DT'), ('pines', 'NNS'), ('of', 'IN'), ('Mt', 'NNP'), ('.', '.')], [('Lemon', 'NNP'), ('at', 'IN'), ('an', 'DT'), ('elevation', 'NN'), ('of', 'IN'), ('between', 'IN'), ('7000', 'CD'), ('and', 'CC'), ('8000', 'CD'), ('ft.', 'NN'), ('and', 'CC'), ('about', 'IN'), ('2000', 'CD'), ('feet', 'NNS'), ('below', 'IN'), ('the', 'DT'), ('summit', 'NN'), ('of', 'IN'), ('that', 'DT'), ('mountain', 'NN'), ('.', '.')]]\n"
     ]
    }
   ],
   "source": [
    "print(text_tagged[0:10])"
   ]
  },
  {
   "cell_type": "code",
   "execution_count": 33,
   "id": "4c2eef5a-f4b5-4a32-a7e9-1bae48581653",
   "metadata": {},
   "outputs": [
    {
     "name": "stdout",
     "output_type": "stream",
     "text": [
      "VB: verb, base form\n",
      "    ask assemble assess assign assume atone attention avoid bake balkanize\n",
      "    bank begin behold believe bend benefit bevel beware bless boil bomb\n",
      "    boost brace break bring broil brush build ...\n",
      "VBD: verb, past tense\n",
      "    dipped pleaded swiped regummed soaked tidied convened halted registered\n",
      "    cushioned exacted snubbed strode aimed adopted belied figgered\n",
      "    speculated wore appreciated contemplated ...\n",
      "VBG: verb, present participle or gerund\n",
      "    telegraphing stirring focusing angering judging stalling lactating\n",
      "    hankerin' alleging veering capping approaching traveling besieging\n",
      "    encrypting interrupting erasing wincing ...\n",
      "VBN: verb, past participle\n",
      "    multihulled dilapidated aerosolized chaired languished panelized used\n",
      "    experimented flourished imitated reunifed factored condensed sheared\n",
      "    unsettled primed dubbed desired ...\n",
      "VBP: verb, present tense, not 3rd person singular\n",
      "    predominate wrap resort sue twist spill cure lengthen brush terminate\n",
      "    appear tend stray glisten obtain comprise detest tease attract\n",
      "    emphasize mold postpone sever return wag ...\n",
      "VBZ: verb, present tense, 3rd person singular\n",
      "    bases reconstructs marks mixes displeases seals carps weaves snatches\n",
      "    slumps stretches authorizes smolders pictures emerges stockpiles\n",
      "    seduces fizzes uses bolsters slaps speaks pleads ...\n",
      "None\n"
     ]
    }
   ],
   "source": [
    "print (nltk.help.upenn_tagset('V.*'))"
   ]
  },
  {
   "cell_type": "code",
   "execution_count": null,
   "id": "f9f30cc0-9a55-4186-8675-2049200c1795",
   "metadata": {},
   "outputs": [],
   "source": []
  },
  {
   "cell_type": "markdown",
   "id": "7d6143fd-c66d-4ae5-8222-1d64db47f41c",
   "metadata": {},
   "source": [
    "# spaCy NLP"
   ]
  },
  {
   "cell_type": "code",
   "execution_count": 7,
   "id": "ccdbc2e5-0678-40e6-baa1-0b66063b5131",
   "metadata": {},
   "outputs": [
    {
     "data": {
      "text/plain": [
       "<spacy.pipeline.entityruler.EntityRuler at 0x18352ccc0>"
      ]
     },
     "execution_count": 7,
     "metadata": {},
     "output_type": "execute_result"
    }
   ],
   "source": [
    "#Sets up a function so you can run the English model on texts\n",
    "nlp = en_core_web_trf.load()\n",
    "\n",
    "#add the custom entity set (habitats ans taxonomic names)\n",
    "ruler = nlp.add_pipe(\"entity_ruler\", before='ner')\n",
    "\n",
    "# this is a large entity set - it takes a while to load.\n",
    "ruler.from_disk(\"/Users/thalassa/streamlit/streamlit-ansp/data/ansp-clean-patterns.jsonl\")"
   ]
  },
  {
   "cell_type": "markdown",
   "id": "ff526c81-5e10-4b94-8278-997fb52160b4",
   "metadata": {},
   "source": [
    "## Run code on a single file to see how it works."
   ]
  },
  {
   "cell_type": "code",
   "execution_count": 10,
   "id": "146b8632-aa2b-4316-80ca-bc63dd3ef4e3",
   "metadata": {},
   "outputs": [],
   "source": [
    "doc = nlp(text) #text was loaded in previous steps"
   ]
  },
  {
   "cell_type": "code",
   "execution_count": 11,
   "id": "ace0bb10-f062-4efc-afcb-1528cbb13ee5",
   "metadata": {},
   "outputs": [],
   "source": [
    "rows = []\n",
    "\n",
    "for token in doc:\n",
    "    rows.append(\n",
    "        {\n",
    "            'Token': token.text, \n",
    "            'Lemma': token.lemma_,\n",
    "            'POS': token.pos_,\n",
    "            'Tag': token.tag_,\n",
    "            'Dependency': token.dep_,\n",
    "            'Head': token.head,\n",
    "            'Head POS':token.head.pos_,\n",
    "            'Children':[child for child in token.children],\n",
    "            'Ent Type': token.ent_type_,\n",
    "            'IsAlpha': token.is_alpha,\n",
    "            'IsPunct': token.is_punct,\n",
    "            'IsStop': token.is_stop\n",
    "        }\n",
    "    )   \n",
    "tokes = pd.DataFrame(rows)"
   ]
  },
  {
   "cell_type": "code",
   "execution_count": 12,
   "id": "cb8c7fdb-3d2e-4103-b687-f2494c1bdaab",
   "metadata": {},
   "outputs": [
    {
     "data": {
      "text/html": [
       "<div>\n",
       "<style scoped>\n",
       "    .dataframe tbody tr th:only-of-type {\n",
       "        vertical-align: middle;\n",
       "    }\n",
       "\n",
       "    .dataframe tbody tr th {\n",
       "        vertical-align: top;\n",
       "    }\n",
       "\n",
       "    .dataframe thead th {\n",
       "        text-align: right;\n",
       "    }\n",
       "</style>\n",
       "<table border=\"1\" class=\"dataframe\">\n",
       "  <thead>\n",
       "    <tr style=\"text-align: right;\">\n",
       "      <th></th>\n",
       "      <th>Token</th>\n",
       "      <th>Lemma</th>\n",
       "      <th>POS</th>\n",
       "      <th>Tag</th>\n",
       "      <th>Dependency</th>\n",
       "      <th>Head</th>\n",
       "      <th>Head POS</th>\n",
       "      <th>Children</th>\n",
       "      <th>Ent Type</th>\n",
       "      <th>IsAlpha</th>\n",
       "      <th>IsPunct</th>\n",
       "      <th>IsStop</th>\n",
       "    </tr>\n",
       "  </thead>\n",
       "  <tbody>\n",
       "    <tr>\n",
       "      <th>0</th>\n",
       "      <td>THE</td>\n",
       "      <td>the</td>\n",
       "      <td>DET</td>\n",
       "      <td>DT</td>\n",
       "      <td>det</td>\n",
       "      <td>BIRDS</td>\n",
       "      <td>NOUN</td>\n",
       "      <td>[]</td>\n",
       "      <td></td>\n",
       "      <td>True</td>\n",
       "      <td>False</td>\n",
       "      <td>True</td>\n",
       "    </tr>\n",
       "    <tr>\n",
       "      <th>1</th>\n",
       "      <td>BIRDS</td>\n",
       "      <td>bird</td>\n",
       "      <td>NOUN</td>\n",
       "      <td>NNS</td>\n",
       "      <td>nsubj</td>\n",
       "      <td>OBSERVED</td>\n",
       "      <td>VERB</td>\n",
       "      <td>[THE, OF]</td>\n",
       "      <td></td>\n",
       "      <td>True</td>\n",
       "      <td>False</td>\n",
       "      <td>False</td>\n",
       "    </tr>\n",
       "    <tr>\n",
       "      <th>2</th>\n",
       "      <td>OF</td>\n",
       "      <td>of</td>\n",
       "      <td>ADP</td>\n",
       "      <td>IN</td>\n",
       "      <td>prep</td>\n",
       "      <td>BIRDS</td>\n",
       "      <td>NOUN</td>\n",
       "      <td>[TEXAS]</td>\n",
       "      <td></td>\n",
       "      <td>True</td>\n",
       "      <td>False</td>\n",
       "      <td>True</td>\n",
       "    </tr>\n",
       "    <tr>\n",
       "      <th>3</th>\n",
       "      <td>SOUTHEASTERN</td>\n",
       "      <td>southeastern</td>\n",
       "      <td>ADJ</td>\n",
       "      <td>JJ</td>\n",
       "      <td>amod</td>\n",
       "      <td>TEXAS</td>\n",
       "      <td>PROPN</td>\n",
       "      <td>[]</td>\n",
       "      <td></td>\n",
       "      <td>True</td>\n",
       "      <td>False</td>\n",
       "      <td>False</td>\n",
       "    </tr>\n",
       "    <tr>\n",
       "      <th>4</th>\n",
       "      <td>TEXAS</td>\n",
       "      <td>TEXAS</td>\n",
       "      <td>PROPN</td>\n",
       "      <td>NNP</td>\n",
       "      <td>pobj</td>\n",
       "      <td>OF</td>\n",
       "      <td>ADP</td>\n",
       "      <td>[SOUTHEASTERN, AND, ARIZONA]</td>\n",
       "      <td>GPE</td>\n",
       "      <td>True</td>\n",
       "      <td>False</td>\n",
       "      <td>False</td>\n",
       "    </tr>\n",
       "    <tr>\n",
       "      <th>5</th>\n",
       "      <td>AND</td>\n",
       "      <td>and</td>\n",
       "      <td>CCONJ</td>\n",
       "      <td>CC</td>\n",
       "      <td>cc</td>\n",
       "      <td>TEXAS</td>\n",
       "      <td>PROPN</td>\n",
       "      <td>[]</td>\n",
       "      <td></td>\n",
       "      <td>True</td>\n",
       "      <td>False</td>\n",
       "      <td>True</td>\n",
       "    </tr>\n",
       "    <tr>\n",
       "      <th>6</th>\n",
       "      <td>SOUTHERN</td>\n",
       "      <td>southern</td>\n",
       "      <td>ADJ</td>\n",
       "      <td>JJ</td>\n",
       "      <td>amod</td>\n",
       "      <td>ARIZONA</td>\n",
       "      <td>PROPN</td>\n",
       "      <td>[]</td>\n",
       "      <td>LOC</td>\n",
       "      <td>True</td>\n",
       "      <td>False</td>\n",
       "      <td>False</td>\n",
       "    </tr>\n",
       "    <tr>\n",
       "      <th>7</th>\n",
       "      <td>ARIZONA</td>\n",
       "      <td>ARIZONA</td>\n",
       "      <td>PROPN</td>\n",
       "      <td>NNP</td>\n",
       "      <td>conj</td>\n",
       "      <td>TEXAS</td>\n",
       "      <td>PROPN</td>\n",
       "      <td>[SOUTHERN]</td>\n",
       "      <td>LOC</td>\n",
       "      <td>True</td>\n",
       "      <td>False</td>\n",
       "      <td>False</td>\n",
       "    </tr>\n",
       "    <tr>\n",
       "      <th>8</th>\n",
       "      <td>OBSERVED</td>\n",
       "      <td>observe</td>\n",
       "      <td>VERB</td>\n",
       "      <td>VBN</td>\n",
       "      <td>ROOT</td>\n",
       "      <td>OBSERVED</td>\n",
       "      <td>VERB</td>\n",
       "      <td>[BIRDS, DURING, JUNE, .]</td>\n",
       "      <td></td>\n",
       "      <td>True</td>\n",
       "      <td>False</td>\n",
       "      <td>False</td>\n",
       "    </tr>\n",
       "    <tr>\n",
       "      <th>9</th>\n",
       "      <td>DURING</td>\n",
       "      <td>dure</td>\n",
       "      <td>VERB</td>\n",
       "      <td>VBG</td>\n",
       "      <td>prep</td>\n",
       "      <td>OBSERVED</td>\n",
       "      <td>VERB</td>\n",
       "      <td>[]</td>\n",
       "      <td></td>\n",
       "      <td>True</td>\n",
       "      <td>False</td>\n",
       "      <td>True</td>\n",
       "    </tr>\n",
       "    <tr>\n",
       "      <th>10</th>\n",
       "      <td>MAY</td>\n",
       "      <td>MAY</td>\n",
       "      <td>PROPN</td>\n",
       "      <td>NNP</td>\n",
       "      <td>compound</td>\n",
       "      <td>JUNE</td>\n",
       "      <td>PROPN</td>\n",
       "      <td>[]</td>\n",
       "      <td>DATE</td>\n",
       "      <td>True</td>\n",
       "      <td>False</td>\n",
       "      <td>True</td>\n",
       "    </tr>\n",
       "    <tr>\n",
       "      <th>11</th>\n",
       "      <td>JUNE</td>\n",
       "      <td>JUNE</td>\n",
       "      <td>PROPN</td>\n",
       "      <td>NNP</td>\n",
       "      <td>npadvmod</td>\n",
       "      <td>OBSERVED</td>\n",
       "      <td>VERB</td>\n",
       "      <td>[MAY, AND, JULY, 1891]</td>\n",
       "      <td>DATE</td>\n",
       "      <td>True</td>\n",
       "      <td>False</td>\n",
       "      <td>False</td>\n",
       "    </tr>\n",
       "    <tr>\n",
       "      <th>12</th>\n",
       "      <td>AND</td>\n",
       "      <td>and</td>\n",
       "      <td>CCONJ</td>\n",
       "      <td>CC</td>\n",
       "      <td>cc</td>\n",
       "      <td>JUNE</td>\n",
       "      <td>PROPN</td>\n",
       "      <td>[]</td>\n",
       "      <td>DATE</td>\n",
       "      <td>True</td>\n",
       "      <td>False</td>\n",
       "      <td>True</td>\n",
       "    </tr>\n",
       "    <tr>\n",
       "      <th>13</th>\n",
       "      <td>JULY</td>\n",
       "      <td>JULY</td>\n",
       "      <td>PROPN</td>\n",
       "      <td>NNP</td>\n",
       "      <td>conj</td>\n",
       "      <td>JUNE</td>\n",
       "      <td>PROPN</td>\n",
       "      <td>[]</td>\n",
       "      <td>DATE</td>\n",
       "      <td>True</td>\n",
       "      <td>False</td>\n",
       "      <td>False</td>\n",
       "    </tr>\n",
       "    <tr>\n",
       "      <th>14</th>\n",
       "      <td>1891</td>\n",
       "      <td>1891</td>\n",
       "      <td>NUM</td>\n",
       "      <td>CD</td>\n",
       "      <td>nummod</td>\n",
       "      <td>JUNE</td>\n",
       "      <td>PROPN</td>\n",
       "      <td>[]</td>\n",
       "      <td>DATE</td>\n",
       "      <td>False</td>\n",
       "      <td>False</td>\n",
       "      <td>False</td>\n",
       "    </tr>\n",
       "  </tbody>\n",
       "</table>\n",
       "</div>"
      ],
      "text/plain": [
       "           Token         Lemma    POS  Tag Dependency      Head Head POS  \\\n",
       "0            THE           the    DET   DT        det     BIRDS     NOUN   \n",
       "1          BIRDS          bird   NOUN  NNS      nsubj  OBSERVED     VERB   \n",
       "2             OF            of    ADP   IN       prep     BIRDS     NOUN   \n",
       "3   SOUTHEASTERN  southeastern    ADJ   JJ       amod     TEXAS    PROPN   \n",
       "4          TEXAS         TEXAS  PROPN  NNP       pobj        OF      ADP   \n",
       "5            AND           and  CCONJ   CC         cc     TEXAS    PROPN   \n",
       "6       SOUTHERN      southern    ADJ   JJ       amod   ARIZONA    PROPN   \n",
       "7        ARIZONA       ARIZONA  PROPN  NNP       conj     TEXAS    PROPN   \n",
       "8       OBSERVED       observe   VERB  VBN       ROOT  OBSERVED     VERB   \n",
       "9         DURING          dure   VERB  VBG       prep  OBSERVED     VERB   \n",
       "10           MAY           MAY  PROPN  NNP   compound      JUNE    PROPN   \n",
       "11          JUNE          JUNE  PROPN  NNP   npadvmod  OBSERVED     VERB   \n",
       "12           AND           and  CCONJ   CC         cc      JUNE    PROPN   \n",
       "13          JULY          JULY  PROPN  NNP       conj      JUNE    PROPN   \n",
       "14          1891          1891    NUM   CD     nummod      JUNE    PROPN   \n",
       "\n",
       "                        Children Ent Type  IsAlpha  IsPunct  IsStop  \n",
       "0                             []              True    False    True  \n",
       "1                      [THE, OF]              True    False   False  \n",
       "2                        [TEXAS]              True    False    True  \n",
       "3                             []              True    False   False  \n",
       "4   [SOUTHEASTERN, AND, ARIZONA]      GPE     True    False   False  \n",
       "5                             []              True    False    True  \n",
       "6                             []      LOC     True    False   False  \n",
       "7                     [SOUTHERN]      LOC     True    False   False  \n",
       "8       [BIRDS, DURING, JUNE, .]              True    False   False  \n",
       "9                             []              True    False    True  \n",
       "10                            []     DATE     True    False    True  \n",
       "11        [MAY, AND, JULY, 1891]     DATE     True    False   False  \n",
       "12                            []     DATE     True    False    True  \n",
       "13                            []     DATE     True    False   False  \n",
       "14                            []     DATE    False    False   False  "
      ]
     },
     "execution_count": 12,
     "metadata": {},
     "output_type": "execute_result"
    }
   ],
   "source": [
    "tokes.head(15)"
   ]
  },
  {
   "cell_type": "code",
   "execution_count": 45,
   "id": "d5c0026b-9197-4d04-959e-747e0ead985c",
   "metadata": {},
   "outputs": [],
   "source": [
    "tokes.to_csv('/Users/thalassa/Rcode/blog/data/animals-clean/44pg098_tokens.txt', sep='\\t', index = False, header=True)"
   ]
  },
  {
   "cell_type": "code",
   "execution_count": 23,
   "id": "9fc0fead-0565-4a40-839a-c2db56b0ce48",
   "metadata": {},
   "outputs": [],
   "source": [
    "rows = []\n",
    "\n",
    "for chunk in doc.noun_chunks:\n",
    "    rows.append(\n",
    "        {\n",
    "            'Chunk': chunk.text, \n",
    "            'Chunk Root':chunk.root.text, \n",
    "            'Chunk Dep':chunk.root.dep_,\n",
    "            'Chunk Head':chunk.root.head.text\n",
    "        }\n",
    "    )   \n",
    "wordchunks = pd.DataFrame(rows)"
   ]
  },
  {
   "cell_type": "code",
   "execution_count": 24,
   "id": "f07409e0-488c-4c6d-b149-8f24a4d669de",
   "metadata": {},
   "outputs": [
    {
     "data": {
      "text/html": [
       "<div>\n",
       "<style scoped>\n",
       "    .dataframe tbody tr th:only-of-type {\n",
       "        vertical-align: middle;\n",
       "    }\n",
       "\n",
       "    .dataframe tbody tr th {\n",
       "        vertical-align: top;\n",
       "    }\n",
       "\n",
       "    .dataframe thead th {\n",
       "        text-align: right;\n",
       "    }\n",
       "</style>\n",
       "<table border=\"1\" class=\"dataframe\">\n",
       "  <thead>\n",
       "    <tr style=\"text-align: right;\">\n",
       "      <th></th>\n",
       "      <th>Chunk</th>\n",
       "      <th>Chunk Root</th>\n",
       "      <th>Chunk Dep</th>\n",
       "      <th>Chunk Head</th>\n",
       "    </tr>\n",
       "  </thead>\n",
       "  <tbody>\n",
       "    <tr>\n",
       "      <th>0</th>\n",
       "      <td>THE BIRDS</td>\n",
       "      <td>BIRDS</td>\n",
       "      <td>nsubj</td>\n",
       "      <td>OBSERVED</td>\n",
       "    </tr>\n",
       "    <tr>\n",
       "      <th>1</th>\n",
       "      <td>SOUTHEASTERN TEXAS</td>\n",
       "      <td>TEXAS</td>\n",
       "      <td>pobj</td>\n",
       "      <td>OF</td>\n",
       "    </tr>\n",
       "    <tr>\n",
       "      <th>2</th>\n",
       "      <td>SOUTHERN ARIZONA</td>\n",
       "      <td>ARIZONA</td>\n",
       "      <td>conj</td>\n",
       "      <td>TEXAS</td>\n",
       "    </tr>\n",
       "    <tr>\n",
       "      <th>3</th>\n",
       "      <td>SAMUEL N. RHOADS</td>\n",
       "      <td>RHOADS</td>\n",
       "      <td>pobj</td>\n",
       "      <td>BY</td>\n",
       "    </tr>\n",
       "    <tr>\n",
       "      <th>4</th>\n",
       "      <td>the idea</td>\n",
       "      <td>idea</td>\n",
       "      <td>pobj</td>\n",
       "      <td>With</td>\n",
       "    </tr>\n",
       "    <tr>\n",
       "      <th>5</th>\n",
       "      <td>the avifauna</td>\n",
       "      <td>avifauna</td>\n",
       "      <td>dobj</td>\n",
       "      <td>investigating</td>\n",
       "    </tr>\n",
       "    <tr>\n",
       "      <th>6</th>\n",
       "      <td>the southern border</td>\n",
       "      <td>border</td>\n",
       "      <td>pobj</td>\n",
       "      <td>of</td>\n",
       "    </tr>\n",
       "    <tr>\n",
       "      <th>7</th>\n",
       "      <td>the United States</td>\n",
       "      <td>States</td>\n",
       "      <td>pobj</td>\n",
       "      <td>of</td>\n",
       "    </tr>\n",
       "    <tr>\n",
       "      <th>8</th>\n",
       "      <td>a series</td>\n",
       "      <td>series</td>\n",
       "      <td>dobj</td>\n",
       "      <td>collectiug</td>\n",
       "    </tr>\n",
       "    <tr>\n",
       "      <th>9</th>\n",
       "      <td>the birds</td>\n",
       "      <td>birds</td>\n",
       "      <td>pobj</td>\n",
       "      <td>of</td>\n",
       "    </tr>\n",
       "    <tr>\n",
       "      <th>10</th>\n",
       "      <td>Florida</td>\n",
       "      <td>Florida</td>\n",
       "      <td>pobj</td>\n",
       "      <td>of</td>\n",
       "    </tr>\n",
       "    <tr>\n",
       "      <th>11</th>\n",
       "      <td>Texas</td>\n",
       "      <td>Texas</td>\n",
       "      <td>appos</td>\n",
       "      <td>Florida</td>\n",
       "    </tr>\n",
       "    <tr>\n",
       "      <th>12</th>\n",
       "      <td>Arizona</td>\n",
       "      <td>Arizona</td>\n",
       "      <td>conj</td>\n",
       "      <td>Texas</td>\n",
       "    </tr>\n",
       "    <tr>\n",
       "      <th>13</th>\n",
       "      <td>I</td>\n",
       "      <td>I</td>\n",
       "      <td>nsubj</td>\n",
       "      <td>left</td>\n",
       "    </tr>\n",
       "    <tr>\n",
       "      <th>14</th>\n",
       "      <td>Philadelphia</td>\n",
       "      <td>Philadelphia</td>\n",
       "      <td>dobj</td>\n",
       "      <td>left</td>\n",
       "    </tr>\n",
       "    <tr>\n",
       "      <th>15</th>\n",
       "      <td>Jacksonville</td>\n",
       "      <td>Jacksonville</td>\n",
       "      <td>pobj</td>\n",
       "      <td>at</td>\n",
       "    </tr>\n",
       "    <tr>\n",
       "      <th>16</th>\n",
       "      <td>Florida</td>\n",
       "      <td>Florida</td>\n",
       "      <td>appos</td>\n",
       "      <td>Jacksonville</td>\n",
       "    </tr>\n",
       "    <tr>\n",
       "      <th>17</th>\n",
       "      <td>the following month</td>\n",
       "      <td>month</td>\n",
       "      <td>pobj</td>\n",
       "      <td>of</td>\n",
       "    </tr>\n",
       "    <tr>\n",
       "      <th>18</th>\n",
       "      <td>A sojourn</td>\n",
       "      <td>sojourn</td>\n",
       "      <td>nsubjpass</td>\n",
       "      <td>made</td>\n",
       "    </tr>\n",
       "    <tr>\n",
       "      <th>19</th>\n",
       "      <td>five weeks</td>\n",
       "      <td>weeks</td>\n",
       "      <td>pobj</td>\n",
       "      <td>of</td>\n",
       "    </tr>\n",
       "    <tr>\n",
       "      <th>20</th>\n",
       "      <td>the southwestern part</td>\n",
       "      <td>part</td>\n",
       "      <td>pobj</td>\n",
       "      <td>in</td>\n",
       "    </tr>\n",
       "    <tr>\n",
       "      <th>21</th>\n",
       "      <td>the state</td>\n",
       "      <td>state</td>\n",
       "      <td>pobj</td>\n",
       "      <td>of</td>\n",
       "    </tr>\n",
       "    <tr>\n",
       "      <th>22</th>\n",
       "      <td>considerable collections</td>\n",
       "      <td>collections</td>\n",
       "      <td>nsubj</td>\n",
       "      <td>obtained</td>\n",
       "    </tr>\n",
       "    <tr>\n",
       "      <th>23</th>\n",
       "      <td>Few facts</td>\n",
       "      <td>facts</td>\n",
       "      <td>nsubjpass</td>\n",
       "      <td>ascertained</td>\n",
       "    </tr>\n",
       "    <tr>\n",
       "      <th>24</th>\n",
       "      <td>what</td>\n",
       "      <td>what</td>\n",
       "      <td>nsubjpass</td>\n",
       "      <td>written</td>\n",
       "    </tr>\n",
       "    <tr>\n",
       "      <th>25</th>\n",
       "      <td>the bird life</td>\n",
       "      <td>life</td>\n",
       "      <td>pobj</td>\n",
       "      <td>on</td>\n",
       "    </tr>\n",
       "    <tr>\n",
       "      <th>26</th>\n",
       "      <td>this region</td>\n",
       "      <td>region</td>\n",
       "      <td>pobj</td>\n",
       "      <td>of</td>\n",
       "    </tr>\n",
       "    <tr>\n",
       "      <th>27</th>\n",
       "      <td>it</td>\n",
       "      <td>it</td>\n",
       "      <td>nsubj</td>\n",
       "      <td>is</td>\n",
       "    </tr>\n",
       "    <tr>\n",
       "      <th>28</th>\n",
       "      <td>my intention</td>\n",
       "      <td>intention</td>\n",
       "      <td>attr</td>\n",
       "      <td>is</td>\n",
       "    </tr>\n",
       "    <tr>\n",
       "      <th>29</th>\n",
       "      <td>detail</td>\n",
       "      <td>detail</td>\n",
       "      <td>pobj</td>\n",
       "      <td>in</td>\n",
       "    </tr>\n",
       "  </tbody>\n",
       "</table>\n",
       "</div>"
      ],
      "text/plain": [
       "                       Chunk    Chunk Root  Chunk Dep     Chunk Head\n",
       "0                  THE BIRDS         BIRDS      nsubj       OBSERVED\n",
       "1         SOUTHEASTERN TEXAS         TEXAS       pobj             OF\n",
       "2           SOUTHERN ARIZONA       ARIZONA       conj          TEXAS\n",
       "3           SAMUEL N. RHOADS        RHOADS       pobj             BY\n",
       "4                   the idea          idea       pobj           With\n",
       "5               the avifauna      avifauna       dobj  investigating\n",
       "6        the southern border        border       pobj             of\n",
       "7          the United States        States       pobj             of\n",
       "8                   a series        series       dobj     collectiug\n",
       "9                  the birds         birds       pobj             of\n",
       "10                   Florida       Florida       pobj             of\n",
       "11                     Texas         Texas      appos        Florida\n",
       "12                   Arizona       Arizona       conj          Texas\n",
       "13                         I             I      nsubj           left\n",
       "14              Philadelphia  Philadelphia       dobj           left\n",
       "15              Jacksonville  Jacksonville       pobj             at\n",
       "16                   Florida       Florida      appos   Jacksonville\n",
       "17       the following month         month       pobj             of\n",
       "18                 A sojourn       sojourn  nsubjpass           made\n",
       "19                five weeks         weeks       pobj             of\n",
       "20     the southwestern part          part       pobj             in\n",
       "21                 the state         state       pobj             of\n",
       "22  considerable collections   collections      nsubj       obtained\n",
       "23                 Few facts         facts  nsubjpass    ascertained\n",
       "24                      what          what  nsubjpass        written\n",
       "25             the bird life          life       pobj             on\n",
       "26               this region        region       pobj             of\n",
       "27                        it            it      nsubj             is\n",
       "28              my intention     intention       attr             is\n",
       "29                    detail        detail       pobj             in"
      ]
     },
     "execution_count": 24,
     "metadata": {},
     "output_type": "execute_result"
    }
   ],
   "source": [
    "wordchunks.head(30)"
   ]
  },
  {
   "cell_type": "code",
   "execution_count": 25,
   "id": "52bc6c9d-f8fb-49a0-a0f2-f683969e10c9",
   "metadata": {},
   "outputs": [],
   "source": [
    "wordchunks.to_csv('/Users/thalassa/Rcode/blog/data/animals-clean/44pg098_spacychunks.txt', sep='\\t', index = False, header=True)"
   ]
  },
  {
   "cell_type": "code",
   "execution_count": null,
   "id": "6679481f-d223-4745-b45f-0068e8eb6100",
   "metadata": {},
   "outputs": [],
   "source": [
    "[sent.text for sent in doc.sents]"
   ]
  },
  {
   "cell_type": "code",
   "execution_count": 55,
   "id": "1c00c61e-7151-4bdc-b13d-ed714039310d",
   "metadata": {},
   "outputs": [],
   "source": [
    "with open('44pg098_spacy-sents.txt', 'w') as f:\n",
    "    for sent in doc.sents:\n",
    "        f.write(\"%s\\n\" % sent.text)"
   ]
  },
  {
   "cell_type": "code",
   "execution_count": null,
   "id": "eb57ed36-4e88-4a8c-adf6-dab7b77a9a7f",
   "metadata": {},
   "outputs": [],
   "source": [
    "[chunk.text for chunk in doc.noun_chunks]"
   ]
  },
  {
   "cell_type": "code",
   "execution_count": 18,
   "id": "bd27f95d-5621-4fde-be3c-1ac62757ba71",
   "metadata": {},
   "outputs": [],
   "source": [
    "with open('44pg098_spacy-chunks.txt', 'w') as f:\n",
    "    for chunk in doc.noun_chunks:\n",
    "        f.write(\"%s\\n\" % chunk.text)"
   ]
  },
  {
   "cell_type": "code",
   "execution_count": null,
   "id": "9333d029-dc0c-483b-a62f-c16dd81ec05e",
   "metadata": {},
   "outputs": [],
   "source": [
    "for token in doc:\n",
    "    print(token.text, token.dep_, token.head.text, token.head.pos_,\n",
    "            [child for child in token.children])"
   ]
  },
  {
   "cell_type": "code",
   "execution_count": null,
   "id": "afbcff8c-c7b8-4246-86e2-6605d101c226",
   "metadata": {},
   "outputs": [],
   "source": [
    "displacy.render(doc, style=\"ent\")"
   ]
  },
  {
   "cell_type": "code",
   "execution_count": null,
   "id": "a64605bd-127d-4ead-ac41-541bd5093a33",
   "metadata": {},
   "outputs": [],
   "source": [
    "options = {\"compact\": True, \"bg\": \"#09a3d5\",\n",
    "           \"color\": \"white\", \"font\": \"Source Sans Pro\"}\n",
    "\n",
    "displacy.render(doc, style=\"dep\", jupyter = True, options=options)"
   ]
  },
  {
   "cell_type": "code",
   "execution_count": null,
   "id": "a81f7cfb-17d8-461d-aca1-1a6bdcb6f3d9",
   "metadata": {},
   "outputs": [],
   "source": []
  }
 ],
 "metadata": {
  "kernelspec": {
   "display_name": "Python 3 (ipykernel)",
   "language": "python",
   "name": "python3"
  },
  "language_info": {
   "codemirror_mode": {
    "name": "ipython",
    "version": 3
   },
   "file_extension": ".py",
   "mimetype": "text/x-python",
   "name": "python",
   "nbconvert_exporter": "python",
   "pygments_lexer": "ipython3",
   "version": "3.9.7"
  }
 },
 "nbformat": 4,
 "nbformat_minor": 5
}
